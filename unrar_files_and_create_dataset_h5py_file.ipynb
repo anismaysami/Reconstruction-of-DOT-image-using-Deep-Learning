{
  "cells": [
    {
      "cell_type": "markdown",
      "source": [
        "#This script make unrar dataset and then create mua and data h5py"
      ],
      "metadata": {
        "id": "6x_-1mpQ1jtb"
      }
    },
    {
      "cell_type": "code",
      "execution_count": null,
      "metadata": {
        "colab": {
          "base_uri": "https://localhost:8080/"
        },
        "id": "I0ZkSQXFKKlz",
        "outputId": "4b6e44a2-8478-4f73-a1ea-9f59aea9f5ca"
      },
      "outputs": [
        {
          "output_type": "stream",
          "name": "stdout",
          "text": [
            "Mounted at /content/drive\n"
          ]
        }
      ],
      "source": [
        "from google.colab import drive\n",
        "drive.mount('/content/drive')"
      ]
    },
    {
      "cell_type": "code",
      "source": [
        "#@title Extracting rar files\n",
        "#In case of rar files\n",
        "#file_path=\"/content/drive/MyDrive/DriveUploader/mua_21_.rar\"\n",
        "#file_path='/content/drive/MyDrive/DriveUploader/mua_22_.rar'\n",
        "#file_path='/content/drive/MyDrive/DriveUploader/mua_23_.rar'\n",
        "#file_path='/content/drive/MyDrive/DriveUploader/mua_24_.rar'\n",
        "#file_path='/content/drive/MyDrive/DriveUploader/mua_25.rar'\n",
        "#file_path='/content/drive/MyDrive/DriveUploader/data_21_.rar'\n",
        "#file_path='/content/drive/MyDrive/DriveUploader/data_22_.rar'\n",
        "#file_path='/content/drive/MyDrive/DriveUploader/data_23_.rar'\n",
        "#file_path='/content/drive/MyDrive/DriveUploader/data_24_.rar'\n",
        "file_path='/content/drive/MyDrive/DriveUploader/data_25.rar'\n",
        "!unrar x '$file_path' \"/content/drive/MyDrive/dataset\""
      ],
      "metadata": {
        "id": "CqxgL2LM11_S"
      },
      "execution_count": null,
      "outputs": []
    },
    {
      "cell_type": "code",
      "execution_count": null,
      "metadata": {
        "id": "oox9mfIIKQL_"
      },
      "outputs": [],
      "source": [
        "from scipy.io import loadmat\n",
        "import pandas as pd\n",
        "import h5py"
      ]
    },
    {
      "cell_type": "code",
      "execution_count": null,
      "metadata": {
        "id": "dmw1FChNKRKC"
      },
      "outputs": [],
      "source": [
        "import glob\n",
        "mua_11list = glob.glob(\"/content/drive/MyDrive/dataset/mua_11/mua*******.mat\")\n",
        "mua_12list = glob.glob(\"/content/drive/MyDrive/dataset/mua_12/mua*******.mat\")\n",
        "mua_13list = glob.glob(\"/content/drive/MyDrive/dataset/mua_13/mua*******.mat\")\n",
        "mua_14list = glob.glob(\"/content/drive/MyDrive/dataset/mua_14/mua*******.mat\")\n",
        "data_11list = glob.glob(\"/content/drive/MyDrive/dataset/data_11/data*******.mat\")\n",
        "data_12list = glob.glob(\"/content/drive/MyDrive/dataset/data_12/data*******.mat\")\n",
        "data_13list = glob.glob(\"/content/drive/MyDrive/dataset/data_13/data*******.mat\")\n",
        "data_14list = glob.glob(\"/content/drive/MyDrive/dataset/data_14/data*******.mat\")\n",
        "\n",
        "mua_21list = glob.glob(\"/content/drive/MyDrive/dataset/mua_21/mua*******.mat\")\n",
        "mua_22list = glob.glob(\"/content/drive/MyDrive/dataset/mua_22/mua*******.mat\")\n",
        "mua_23list = glob.glob(\"/content/drive/MyDrive/dataset/mua_23/mua*******.mat\")\n",
        "mua_24list = glob.glob(\"/content/drive/MyDrive/dataset/mua_24/mua*******.mat\")\n",
        "mua_25list = glob.glob(\"/content/drive/MyDrive/dataset/mua_25/mua*******.mat\")\n",
        "data_21list = glob.glob(\"/content/drive/MyDrive/dataset/data_21/data*******.mat\")\n",
        "data_22list = glob.glob(\"/content/drive/MyDrive/dataset/data_22/data*******.mat\")\n",
        "data_23list = glob.glob(\"/content/drive/MyDrive/dataset/data_23/data*******.mat\")\n",
        "data_24list = glob.glob(\"/content/drive/MyDrive/dataset/data_24/data*******.mat\")\n",
        "data_25list = glob.glob(\"/content/drive/MyDrive/dataset/data_25/data*******.mat\")\n"
      ]
    },
    {
      "cell_type": "code",
      "execution_count": null,
      "metadata": {
        "id": "V89OFqL6KUTk"
      },
      "outputs": [],
      "source": [
        "mua_11list.sort(key=lambda x:int(x[42:47]))\n",
        "mua_12list.sort(key=lambda x:int(x[42:47]))\n",
        "mua_13list.sort(key=lambda x:int(x[42:47]))\n",
        "mua_14list.sort(key=lambda x:int(x[42:47]))\n",
        "\n",
        "data_11list.sort(key=lambda x:int(x[44:49]))\n",
        "data_12list.sort(key=lambda x:int(x[44:49]))\n",
        "data_13list.sort(key=lambda x:int(x[44:49]))\n",
        "data_14list.sort(key=lambda x:int(x[44:49]))\n",
        "\n",
        "mua_21list.sort(key=lambda x:int(x[50:55]))\n",
        "mua_22list.sort(key=lambda x:int(x[50:55]))\n",
        "mua_23list.sort(key=lambda x:int(x[50:55]))\n",
        "mua_24list.sort(key=lambda x:int(x[50:55]))\n",
        "mua_25list.sort(key=lambda x:int(x[50:55]))\n",
        "\n",
        "data_21list.sort(key=lambda x:int(x[52:57]))\n",
        "data_22list.sort(key=lambda x:int(x[52:57]))\n",
        "data_23list.sort(key=lambda x:int(x[52:57]))\n",
        "data_24list.sort(key=lambda x:int(x[52:57]))\n",
        "data_25list.sort(key=lambda x:int(x[52:57]))"
      ]
    },
    {
      "cell_type": "code",
      "execution_count": null,
      "metadata": {
        "id": "Upfn-Im0KbzZ"
      },
      "outputs": [],
      "source": [
        "import pandas as pd\n",
        "import re \n",
        "import numpy as np"
      ]
    },
    {
      "cell_type": "code",
      "execution_count": null,
      "metadata": {
        "id": "w9Z--268ATQK"
      },
      "outputs": [],
      "source": [
        "def mua_read(mat_file, name, index):\n",
        "  mat=loadmat(mat_file)\n",
        "  mat_list=[[element for element in upperElement] for upperElement in mat[name]]\n",
        "  df=pd.DataFrame(mat_list)\n",
        "  whol_img=df.to_numpy()\n",
        "  whol_img=whol_img.reshape(64,64,64)\n",
        "  img=whol_img[:,index,:]\n",
        "  return img"
      ]
    },
    {
      "cell_type": "code",
      "execution_count": null,
      "metadata": {
        "cellView": "form",
        "id": "XQq3Fzfx9iHV"
      },
      "outputs": [],
      "source": [
        "#@title Visualizing data\n",
        "mat_file='/content/drive/MyDrive/dataset/mua_21/muaTypeOne (13100).mat'\n",
        "name='mua_save'\n",
        "index=25\n",
        "d=mua_read(mat_file, name, index)\n",
        "import matplotlib.pyplot as plt\n",
        "\n",
        "plt.gca()\n",
        "e=d.reshape(64,64)\n",
        "plt.imshow(e)\n",
        "plt.colorbar()"
      ]
    },
    {
      "cell_type": "code",
      "execution_count": null,
      "metadata": {
        "colab": {
          "base_uri": "https://localhost:8080/"
        },
        "id": "nVwbH6GWKkHm",
        "outputId": "d0804079-12c2-442c-8a30-67c205cc1a9a"
      },
      "outputs": [
        {
          "output_type": "stream",
          "name": "stdout",
          "text": [
            "(3000, 4096, 1)\n"
          ]
        }
      ],
      "source": [
        "mua_11=[]\n",
        "for file in mua_11list:\n",
        "  temp_two=mua_read(file,'mua',25)\n",
        "  mua_11.append(temp_two.reshape(4096,1))\n",
        "mua_11=np.asarray(mua_11)\n",
        "print(mua_11.shape) \n",
        "\n"
      ]
    },
    {
      "cell_type": "code",
      "execution_count": null,
      "metadata": {
        "colab": {
          "base_uri": "https://localhost:8080/"
        },
        "id": "oAyLDMScWm6v",
        "outputId": "44f218cc-2e15-4bf9-f650-c40d0630738d",
        "cellView": "form"
      },
      "outputs": [
        {
          "data": {
            "text/plain": [
              "<HDF5 dataset \"dataset_1\": shape (3000, 4096, 1), type \"<f8\">"
            ]
          },
          "execution_count": 22,
          "metadata": {},
          "output_type": "execute_result"
        }
      ],
      "source": [
        "#@title Default title text\n",
        "import h5py\n",
        "h5f = h5py.File('/content/drive/MyDrive/data.h5', 'w')\n",
        "h5f.create_dataset('dataset_1', data=mua_11)"
      ]
    },
    {
      "cell_type": "code",
      "execution_count": null,
      "metadata": {
        "id": "H9ohgg1IXLpe",
        "cellView": "form"
      },
      "outputs": [],
      "source": [
        "#@title Default title text\n",
        "h5f = h5py.File('data.h5','r')\n",
        "b = h5f['dataset_1'][:]\n",
        "h5f.close()\n",
        "\n",
        "#np.allclose(mua_11,b)\n",
        "#b.shape"
      ]
    },
    {
      "cell_type": "code",
      "execution_count": null,
      "metadata": {
        "colab": {
          "base_uri": "https://localhost:8080/"
        },
        "id": "v09ragEWXdM7",
        "outputId": "3347860e-f516-4400-db99-3c68efa583e5"
      },
      "outputs": [
        {
          "output_type": "stream",
          "name": "stdout",
          "text": [
            "(3000, 4096, 1)\n"
          ]
        }
      ],
      "source": [
        "mua_12=[]\n",
        "for file in mua_12list:\n",
        "  temp_two=mua_read(file,'mua',25)\n",
        "  mua_12.append(temp_two.reshape(4096,1))\n",
        "mua_12=np.asarray(mua_12)\n",
        "print(mua_12.shape)"
      ]
    },
    {
      "cell_type": "code",
      "execution_count": null,
      "metadata": {
        "id": "sVYOiutqgnir"
      },
      "outputs": [],
      "source": [
        "import h5py\n",
        "with h5py.File('/content/drive/MyDrive/data2.h5', 'w') as hf:\n",
        "    hf.create_dataset(\"dataset_2\",  data=mua_12)"
      ]
    },
    {
      "cell_type": "code",
      "execution_count": null,
      "metadata": {
        "colab": {
          "base_uri": "https://localhost:8080/"
        },
        "id": "AOzZM1c7hpbY",
        "outputId": "fed0d239-63f2-46ff-aa96-ad34d27f21bd"
      },
      "outputs": [
        {
          "output_type": "stream",
          "name": "stdout",
          "text": [
            "(3000, 4096, 1)\n"
          ]
        }
      ],
      "source": [
        "mua_13=[]\n",
        "for file in mua_13list:\n",
        "  temp_two=mua_read(file,'mua',25)\n",
        "  mua_13.append(temp_two.reshape(4096,1))\n",
        "mua_13=np.asarray(mua_13)\n",
        "print(mua_13.shape)"
      ]
    },
    {
      "cell_type": "code",
      "execution_count": null,
      "metadata": {
        "id": "eUaU3nsYh9Q6"
      },
      "outputs": [],
      "source": [
        "with h5py.File('/content/drive/MyDrive/data3.h5', 'w') as hf:\n",
        "    hf.create_dataset(\"dataset_3\",  data=mua_13)"
      ]
    },
    {
      "cell_type": "code",
      "execution_count": null,
      "metadata": {
        "colab": {
          "base_uri": "https://localhost:8080/"
        },
        "id": "L2djWvFqqGd4",
        "outputId": "d05114d8-20a1-4832-bd45-70c5ac4e8143"
      },
      "outputs": [
        {
          "output_type": "stream",
          "name": "stdout",
          "text": [
            "(3000, 4096, 1)\n"
          ]
        }
      ],
      "source": [
        "mua_14=[]\n",
        "for file in mua_14list:\n",
        "  temp_two=mua_read(file,'mua',25)\n",
        "  mua_14.append(temp_two.reshape(4096,1))\n",
        "mua_14=np.asarray(mua_14)\n",
        "print(mua_14.shape)"
      ]
    },
    {
      "cell_type": "code",
      "source": [
        "h5f = h5py.File('/content/drive/MyDrive/data.h5','r')\n",
        "mua_11 = h5f['dataset_1'][:]"
      ],
      "metadata": {
        "id": "nmTKfOqMDaWf"
      },
      "execution_count": null,
      "outputs": []
    },
    {
      "cell_type": "code",
      "source": [
        "mua_21=[]\n",
        "for file in mua_21list:\n",
        "  temp_two=mua_read(file,'mua_save',25)\n",
        "  mua_21.append(temp_two.reshape(4096,1))\n",
        "mua_21=np.asarray(mua_21)\n",
        "print(mua_21.shape)"
      ],
      "metadata": {
        "colab": {
          "base_uri": "https://localhost:8080/"
        },
        "id": "ZG-YIcP8LJ6N",
        "outputId": "be00dc03-aa25-4c95-d49f-e3feabdfc00f"
      },
      "execution_count": null,
      "outputs": [
        {
          "output_type": "stream",
          "name": "stdout",
          "text": [
            "(1197, 4096, 1)\n"
          ]
        }
      ]
    },
    {
      "cell_type": "code",
      "source": [
        "mua_22=[]\n",
        "for file in mua_22list:\n",
        "  temp_two=mua_read(file,'mua_save',25)\n",
        "  mua_22.append(temp_two.reshape(4096,1))\n",
        "mua_22=np.asarray(mua_22)\n",
        "print(mua_22.shape)"
      ],
      "metadata": {
        "colab": {
          "base_uri": "https://localhost:8080/"
        },
        "id": "M22gjhIELUmh",
        "outputId": "4e16ed4c-4117-4ed5-e763-d5837754ad8e"
      },
      "execution_count": null,
      "outputs": [
        {
          "output_type": "stream",
          "name": "stdout",
          "text": [
            "(1197, 4096, 1)\n"
          ]
        }
      ]
    },
    {
      "cell_type": "code",
      "source": [
        "mua_23=[]\n",
        "for file in mua_23list:\n",
        "  temp_two=mua_read(file,'mua_save',25)\n",
        "  mua_23.append(temp_two.reshape(4096,1))\n",
        "mua_23=np.asarray(mua_23)\n",
        "print(mua_23.shape)"
      ],
      "metadata": {
        "colab": {
          "base_uri": "https://localhost:8080/"
        },
        "id": "QS735gdZLU5e",
        "outputId": "6e4c737c-71b2-4341-cb59-12be18826705"
      },
      "execution_count": null,
      "outputs": [
        {
          "output_type": "stream",
          "name": "stdout",
          "text": [
            "(1197, 4096, 1)\n"
          ]
        }
      ]
    },
    {
      "cell_type": "code",
      "source": [
        "mua_24=[]\n",
        "for file in mua_24list:\n",
        "  temp_two=mua_read(file,'mua_save',25)\n",
        "  mua_24.append(temp_two.reshape(4096,1))\n",
        "mua_24=np.asarray(mua_24)\n",
        "print(mua_24.shape)"
      ],
      "metadata": {
        "colab": {
          "base_uri": "https://localhost:8080/"
        },
        "id": "us72PVktLVFL",
        "outputId": "57a0e5bf-3e58-4006-bdcb-4a856e5d1e3d"
      },
      "execution_count": null,
      "outputs": [
        {
          "output_type": "stream",
          "name": "stdout",
          "text": [
            "(1197, 4096, 1)\n"
          ]
        }
      ]
    },
    {
      "cell_type": "code",
      "source": [
        "mua_25=[]\n",
        "for file in mua_25list:\n",
        "  temp_two=mua_read(file,'mua_save',25)\n",
        "  mua_25.append(temp_two.reshape(4096,1))\n",
        "mua_25=np.asarray(mua_25)\n",
        "print(mua_25.shape)"
      ],
      "metadata": {
        "colab": {
          "base_uri": "https://localhost:8080/"
        },
        "id": "_MBEx1b2ndxK",
        "outputId": "504e880e-2253-4681-f159-b922b8151f12"
      },
      "execution_count": null,
      "outputs": [
        {
          "output_type": "stream",
          "name": "stdout",
          "text": [
            "(212, 4096, 1)\n"
          ]
        }
      ]
    },
    {
      "cell_type": "code",
      "execution_count": null,
      "metadata": {
        "colab": {
          "base_uri": "https://localhost:8080/"
        },
        "id": "mS_MRZyXyqXv",
        "outputId": "02e9dc2c-a7b1-4e98-e62e-723a1d7190ca"
      },
      "outputs": [
        {
          "output_type": "execute_result",
          "data": {
            "text/plain": [
              "(17000, 4096, 1)"
            ]
          },
          "metadata": {},
          "execution_count": 60
        }
      ],
      "source": [
        "mua_file_1=np.concatenate((mua_11,mua_12),axis=0) \n",
        "mua_file_2=np.concatenate((mua_file_1,mua_13),axis=0)\n",
        "mua_file_3=np.concatenate((mua_file_2,mua_14),axis=0)  \n",
        "mua_file_4=np.concatenate((mua_file_3,mua_21),axis=0)\n",
        "mua_file_5=np.concatenate((mua_file_4,mua_22),axis=0)\n",
        "mua_file_6=np.concatenate((mua_file_5,mua_23),axis=0)\n",
        "mua_file_7=np.concatenate((mua_file_6,mua_24),axis=0)\n",
        "mua_file_8=np.concatenate((mua_file_7,mua_25),axis=0)\n",
        "mua_file_8.shape"
      ]
    },
    {
      "cell_type": "code",
      "execution_count": null,
      "metadata": {
        "id": "l2OfPvje2Gte"
      },
      "outputs": [],
      "source": [
        "with h5py.File('/content/drive/MyDrive/mua.h5', 'w') as hf:\n",
        "    hf.create_dataset(\"mua\",  data=mua_file_8)"
      ]
    },
    {
      "cell_type": "code",
      "execution_count": null,
      "metadata": {
        "id": "AWEpchD13Bzi",
        "colab": {
          "base_uri": "https://localhost:8080/"
        },
        "outputId": "44ec4377-581f-4252-ce34-7a37e35ef4c7"
      },
      "outputs": [
        {
          "output_type": "stream",
          "name": "stdout",
          "text": [
            "(16788, 4096, 1)\n"
          ]
        },
        {
          "output_type": "execute_result",
          "data": {
            "text/plain": [
              "numpy.ndarray"
            ]
          },
          "metadata": {},
          "execution_count": 13
        }
      ],
      "source": [
        "with h5py.File('/content/drive/MyDrive/mua.h5','r') as hf:\n",
        "  a=hf['mua'][:]\n",
        "print(a.shape) \n",
        "type(a)"
      ]
    },
    {
      "cell_type": "code",
      "execution_count": null,
      "metadata": {
        "colab": {
          "base_uri": "https://localhost:8080/",
          "height": 286
        },
        "id": "Q4eowc9S4x5c",
        "outputId": "9d454566-4612-4fe0-f977-85eea1a0398c"
      },
      "outputs": [
        {
          "output_type": "execute_result",
          "data": {
            "text/plain": [
              "<matplotlib.colorbar.Colorbar at 0x7f79f086fc10>"
            ]
          },
          "metadata": {},
          "execution_count": 24
        },
        {
          "output_type": "display_data",
          "data": {
            "image/png": "[encoded data removed]",
            "text/plain": [
              "<Figure size 432x288 with 2 Axes>"
            ]
          },
          "metadata": {
            "needs_background": "light"
          }
        }
      ],
      "source": [
        "a.shape\n",
        "b=a[16395]\n",
        "b.shape\n",
        "import matplotlib.pyplot as plt\n",
        "\n",
        "plt.gca()\n",
        "c=b.reshape(64,64)\n",
        "plt.imshow(c)\n",
        "plt.colorbar()"
      ]
    },
    {
      "cell_type": "code",
      "source": [
        "def data_read(mat_file, name):\n",
        "  mat=loadmat(mat_file)\n",
        "  mat_list=[[element for element in upperElement] for upperElement in mat[name]]\n",
        "  df=pd.DataFrame(mat_list)\n",
        "  label=df.to_numpy()\n",
        "  return label"
      ],
      "metadata": {
        "id": "j1a9094EElmN"
      },
      "execution_count": null,
      "outputs": []
    },
    {
      "cell_type": "code",
      "source": [
        "data_11=[]\n",
        "for file in data_11list:\n",
        "  temp_two=data_read(file,'data')\n",
        "  data_11.append(temp_two.reshape(625,1))\n",
        "data_11=np.asarray(data_11)\n",
        "print(data_11.shape)"
      ],
      "metadata": {
        "colab": {
          "base_uri": "https://localhost:8080/"
        },
        "id": "zTI5t1OxFKJ6",
        "outputId": "f2312c83-c57b-4d1f-d729-b12684c5644d"
      },
      "execution_count": null,
      "outputs": [
        {
          "output_type": "stream",
          "name": "stdout",
          "text": [
            "(3000, 625, 1)\n"
          ]
        }
      ]
    },
    {
      "cell_type": "code",
      "source": [
        "with h5py.File('/content/drive/MyDrive/data.h5', 'w') as hf:\n",
        "    hf.create_dataset(\"data_1\",  data=data_11)"
      ],
      "metadata": {
        "id": "yEqQuwKbITk1"
      },
      "execution_count": null,
      "outputs": []
    },
    {
      "cell_type": "code",
      "source": [
        "data_12=[]\n",
        "for file in data_12list:\n",
        "  temp_two=data_read(file,'data')\n",
        "  data_12.append(temp_two.reshape(625,1))\n",
        "data_12=np.asarray(data_12)\n",
        "print(data_12.shape)"
      ],
      "metadata": {
        "id": "WgKNnhEfHeGo"
      },
      "execution_count": null,
      "outputs": []
    },
    {
      "cell_type": "code",
      "source": [
        "with h5py.File('/content/drive/MyDrive/data_1.h5', 'w') as hf:\n",
        "    hf.create_dataset(\"data_2\",  data=data_12)"
      ],
      "metadata": {
        "id": "3Hrh3hmVKPBm"
      },
      "execution_count": null,
      "outputs": []
    },
    {
      "cell_type": "code",
      "source": [
        "data_13=[]\n",
        "for file in data_13list:\n",
        "  temp_two=data_read(file,'data')\n",
        "  data_13.append(temp_two.reshape(625,1))\n",
        "data_13=np.asarray(data_13)\n",
        "print(data_13.shape)"
      ],
      "metadata": {
        "colab": {
          "base_uri": "https://localhost:8080/"
        },
        "id": "3PK7sLC9KWd7",
        "outputId": "62550b22-2807-4e3e-96e5-e2543bbaf4b5"
      },
      "execution_count": null,
      "outputs": [
        {
          "output_type": "stream",
          "name": "stdout",
          "text": [
            "(3000, 625, 1)\n"
          ]
        }
      ]
    },
    {
      "cell_type": "code",
      "source": [
        "with h5py.File('/content/drive/MyDrive/data_2.h5', 'w') as hf:\n",
        "    hf.create_dataset(\"data_3\",  data=data_13)"
      ],
      "metadata": {
        "id": "Ipog3w2bMY-w"
      },
      "execution_count": null,
      "outputs": []
    },
    {
      "cell_type": "code",
      "source": [
        "data_14=[]\n",
        "for file in data_14list:\n",
        "  temp_two=data_read(file,'data')\n",
        "  data_14.append(temp_two.reshape(625,1))\n",
        "data_14=np.asarray(data_14)\n",
        "print(data_14.shape)"
      ],
      "metadata": {
        "colab": {
          "base_uri": "https://localhost:8080/"
        },
        "id": "v6FqcvRnMowf",
        "outputId": "0c683790-3407-4e5d-b43a-42c3dd85a71e"
      },
      "execution_count": null,
      "outputs": [
        {
          "output_type": "stream",
          "name": "stdout",
          "text": [
            "(3000, 625, 1)\n"
          ]
        }
      ]
    },
    {
      "cell_type": "code",
      "source": [
        "data_21=[]\n",
        "for file in data_21list:\n",
        "  temp_two=data_read(file,'data')\n",
        "  data_21.append(temp_two.reshape(625,1))\n",
        "data_21=np.asarray(data_21)\n",
        "print(data_21.shape)"
      ],
      "metadata": {
        "colab": {
          "base_uri": "https://localhost:8080/"
        },
        "id": "Qv-QN9anzkcq",
        "outputId": "990c2d39-37bf-4eae-96a2-7057334bc42d"
      },
      "execution_count": null,
      "outputs": [
        {
          "output_type": "stream",
          "name": "stdout",
          "text": [
            "(1197, 625, 1)\n"
          ]
        }
      ]
    },
    {
      "cell_type": "code",
      "source": [
        "data_22=[]\n",
        "for file in data_22list:\n",
        "  temp_two=data_read(file,'data')\n",
        "  data_22.append(temp_two.reshape(625,1))\n",
        "data_22=np.asarray(data_22)\n",
        "print(data_22.shape)"
      ],
      "metadata": {
        "colab": {
          "base_uri": "https://localhost:8080/"
        },
        "id": "FbtQhDtDzkxC",
        "outputId": "6358bc01-246a-4df8-bd77-a8adb4f3c8f3"
      },
      "execution_count": null,
      "outputs": [
        {
          "output_type": "stream",
          "name": "stdout",
          "text": [
            "(1197, 625, 1)\n"
          ]
        }
      ]
    },
    {
      "cell_type": "code",
      "source": [
        "data_23=[]\n",
        "for file in data_23list:\n",
        "  temp_two=data_read(file,'data')\n",
        "  data_23.append(temp_two.reshape(625,1))\n",
        "data_23=np.asarray(data_23)\n",
        "print(data_23.shape)"
      ],
      "metadata": {
        "colab": {
          "base_uri": "https://localhost:8080/"
        },
        "id": "zGYSMnpazk8u",
        "outputId": "a9552dd3-4af1-422b-c24d-8735d25b6ee9"
      },
      "execution_count": null,
      "outputs": [
        {
          "output_type": "stream",
          "name": "stdout",
          "text": [
            "(1197, 625, 1)\n"
          ]
        }
      ]
    },
    {
      "cell_type": "code",
      "source": [
        "data_24=[]\n",
        "for file in data_24list:\n",
        "  temp_two=data_read(file,'data')\n",
        "  data_24.append(temp_two.reshape(625,1))\n",
        "data_24=np.asarray(data_24)\n",
        "print(data_24.shape)"
      ],
      "metadata": {
        "colab": {
          "base_uri": "https://localhost:8080/"
        },
        "id": "z6bDohBx09bl",
        "outputId": "62feca83-a34d-4014-f85b-f712ce45dfa6"
      },
      "execution_count": null,
      "outputs": [
        {
          "output_type": "stream",
          "name": "stdout",
          "text": [
            "(1197, 625, 1)\n"
          ]
        }
      ]
    },
    {
      "cell_type": "code",
      "source": [
        "data_25=[]\n",
        "for file in data_25list:\n",
        "  temp_two=data_read(file,'data')\n",
        "  data_25.append(temp_two.reshape(625,1))\n",
        "data_25=np.asarray(data_25)\n",
        "print(data_25.shape)"
      ],
      "metadata": {
        "colab": {
          "base_uri": "https://localhost:8080/"
        },
        "id": "2qM2G-J_1F6q",
        "outputId": "0f4556e1-38fc-455b-d687-9e4b21d9fcaf"
      },
      "execution_count": null,
      "outputs": [
        {
          "output_type": "stream",
          "name": "stdout",
          "text": [
            "(212, 625, 1)\n"
          ]
        }
      ]
    },
    {
      "cell_type": "code",
      "source": [
        "data_file_1=np.concatenate((data_11,data_12),axis=0) \n",
        "data_file_2=np.concatenate((data_file_1,data_13),axis=0)\n",
        "data_file_3=np.concatenate((data_file_2,data_14),axis=0) \n",
        "data_file_4=np.concatenate((data_file_3,data_21),axis=0)  \n",
        "data_file_5=np.concatenate((data_file_4,data_22),axis=0) \n",
        "data_file_6=np.concatenate((data_file_5,data_23),axis=0) \n",
        "data_file_7=np.concatenate((data_file_6,data_24),axis=0) \n",
        "data_file_8=np.concatenate((data_file_7,data_25),axis=0) \n",
        "data_file_8.shape"
      ],
      "metadata": {
        "colab": {
          "base_uri": "https://localhost:8080/"
        },
        "id": "_m_SzfZNOUwC",
        "outputId": "b0fb060f-8efd-4148-fff9-be1b0c6a2d61"
      },
      "execution_count": null,
      "outputs": [
        {
          "output_type": "execute_result",
          "data": {
            "text/plain": [
              "(17000, 625, 1)"
            ]
          },
          "metadata": {},
          "execution_count": 82
        }
      ]
    },
    {
      "cell_type": "code",
      "source": [
        "with h5py.File('/content/drive/MyDrive/data.h5', 'w') as hf:\n",
        "    hf.create_dataset(\"data\",  data=data_file_8)"
      ],
      "metadata": {
        "id": "twJgTXWSPPF6"
      },
      "execution_count": null,
      "outputs": []
    },
    {
      "cell_type": "code",
      "source": [
        "with h5py.File('/content/drive/MyDrive/data.h5','r') as hf:\n",
        "  a=hf['data'][:]\n",
        "a.shape\n",
        "type(a)"
      ],
      "metadata": {
        "id": "FQFVQoEePxIa",
        "colab": {
          "base_uri": "https://localhost:8080/"
        },
        "outputId": "29983e38-c4c8-47fc-b0f9-588affd70bf5"
      },
      "execution_count": null,
      "outputs": [
        {
          "output_type": "execute_result",
          "data": {
            "text/plain": [
              "numpy.ndarray"
            ]
          },
          "metadata": {},
          "execution_count": 84
        }
      ]
    },
    {
      "cell_type": "code",
      "source": [
        "print(a.shape)\n",
        "type(a)"
      ],
      "metadata": {
        "colab": {
          "base_uri": "https://localhost:8080/"
        },
        "id": "UPE2Psl2QGAn",
        "outputId": "7bb34981-4aea-4026-b631-ef1eef7d589b"
      },
      "execution_count": null,
      "outputs": [
        {
          "output_type": "stream",
          "name": "stdout",
          "text": [
            "(17000, 4096, 1)\n"
          ]
        },
        {
          "output_type": "execute_result",
          "data": {
            "text/plain": [
              "numpy.ndarray"
            ]
          },
          "metadata": {},
          "execution_count": 37
        }
      ]
    },
    {
      "cell_type": "code",
      "source": [
        "b=a[11000]\n",
        "b.shape\n",
        "import matplotlib.pyplot as plt\n",
        "\n",
        "plt.gca()\n",
        "c=b.reshape(25,25)\n",
        "plt.imshow(c)\n",
        "plt.colorbar()"
      ],
      "metadata": {
        "colab": {
          "base_uri": "https://localhost:8080/",
          "height": 286
        },
        "id": "_y6G7U-bHQlh",
        "outputId": "a184f08f-855c-4fb9-db25-491364599323"
      },
      "execution_count": null,
      "outputs": [
        {
          "output_type": "execute_result",
          "data": {
            "text/plain": [
              "<matplotlib.colorbar.Colorbar at 0x7f79f09b34d0>"
            ]
          },
          "metadata": {},
          "execution_count": 40
        },
        {
          "output_type": "display_data",
          "data": {
            "image/png": "[encoded data removed]",
            "text/plain": [
              "<Figure size 432x288 with 2 Axes>"
            ]
          },
          "metadata": {
            "needs_background": "light"
          }
        }
      ]
    },
    {
      "cell_type": "code",
      "source": [
        "b=data_12[0]\n",
        "b.shape\n",
        "import matplotlib.pyplot as plt\n",
        "\n",
        "plt.gca()\n",
        "c=b.reshape(25,25)\n",
        "plt.imshow(c)\n",
        "plt.colorbar()"
      ],
      "metadata": {
        "colab": {
          "base_uri": "https://localhost:8080/",
          "height": 282
        },
        "id": "9kiFilIqJo0d",
        "outputId": "3fb0b095-ac7e-4772-fbf6-4423d46194af"
      },
      "execution_count": null,
      "outputs": [
        {
          "output_type": "execute_result",
          "data": {
            "text/plain": [
              "<matplotlib.colorbar.Colorbar at 0x7efe6ff51cd0>"
            ]
          },
          "metadata": {},
          "execution_count": 87
        },
        {
          "output_type": "display_data",
          "data": {
            "image/png": "[encoded data removed]",
            "text/plain": [
              "<Figure size 432x288 with 2 Axes>"
            ]
          },
          "metadata": {
            "needs_background": "light"
          }
        }
      ]
    }
  ],
  "metadata": {
    "colab": {
      "provenance": []
    },
    "kernelspec": {
      "display_name": "Python 3",
      "name": "python3"
    },
    "language_info": {
      "name": "python"
    }
  },
  "nbformat": 4,
  "nbformat_minor": 0
}