{
  "cells": [
    {
      "cell_type": "markdown",
      "metadata": {
        "id": "view-in-github",
        "colab_type": "text"
      },
      "source": [
        "<a href=\"https://colab.research.google.com/github/anismaysami/Reconstruction-of-DOT-image-using-Deep-Learning/blob/main/Training.ipynb\" target=\"_parent\"><img src=\"https://colab.research.google.com/assets/colab-badge.svg\" alt=\"Open In Colab\"/></a>"
      ]
    },
    {
      "cell_type": "markdown",
      "source": [
        "#Reconstruction-of-DOT-image-using-Deep-Learning\n",
        "This program tests various artificial neural networks to reconstruct Diffuse optical tomography Images. Here, we proposed 5 models include:\n",
        "\n",
        "1.   MLP model as a fully connected neural networks\n",
        "2.   DOT_conv model as a convolutional NN\n",
        "3.   Single_layer model as a single fully connected layer (to observe the effect of NN in reconstructing of DOT images\n",
        "4.   Dense_conv model  a combination model of Dense and Convolutional layers\n",
        "5.   cnn2 model as another convolution architecture\n",
        "\n",
        "The performance of networks was evaluated by 4 metrics including mean absolute error (MAE), mean squared error (MSE), Peak Signal to Noise Ratio (PSNR), and Structural Similarity Index Metric (SSIM). For comparison with model-based DOT reconstruction methods, we used the Conjugate gradient algorithm with Total variation (TV) regularization. Fig.1 shows ground truth and reconstructed distribution of absorption coefficient in z=25. Result shows, by using fully connected layer and convolutional neural network, MAE 76% and 69% and MSE 84% and 62% respectively were reduced and PSNR was doubled in comparison with CG. Accordingly, both neural networks have better performance in DOT image reconstruction than model-based method.\n",
        "\n"
      ],
      "metadata": {
        "id": "Rnp2dOkrC7EQ"
      }
    },
    {
      "cell_type": "markdown",
      "metadata": {
        "id": "zqEGuxkUdXbB"
      },
      "source": [
        "#Importing needed packages"
      ]
    },
    {
      "cell_type": "code",
      "execution_count": 11,
      "metadata": {
        "id": "oKxidgcYdUOJ",
        "colab": {
          "base_uri": "https://localhost:8080/"
        },
        "outputId": "060fc9e1-9e2b-471f-f5b4-f429d16a4247"
      },
      "outputs": [
        {
          "output_type": "stream",
          "name": "stdout",
          "text": [
            "Drive already mounted at /content/drive; to attempt to forcibly remount, call drive.mount(\"/content/drive\", force_remount=True).\n"
          ]
        }
      ],
      "source": [
        "#mounting google drive\n",
        "from google.colab import drive\n",
        "drive.mount('/content/drive')"
      ]
    },
    {
      "cell_type": "code",
      "execution_count": 24,
      "metadata": {
        "id": "Rb2vS9YAJ7Rn"
      },
      "outputs": [],
      "source": [
        "!cp /content/drive/MyDrive/superscript.py /content\n",
        "!cp /content/drive/MyDrive/metrics.py /content\n",
        "!cp /content/drive/MyDrive/DLModels.py /content"
      ]
    },
    {
      "cell_type": "code",
      "execution_count": 13,
      "metadata": {
        "id": "Epe85KSqdvel"
      },
      "outputs": [],
      "source": [
        "#importing packages needed\n",
        "import numpy as np\n",
        "import matplotlib.pyplot as plt\n",
        "import h5py\n",
        "from PIL import Image\n",
        "from sklearn.preprocessing import MinMaxScaler, StandardScaler\n",
        "from sklearn.model_selection import train_test_split, GridSearchCV\n",
        "from sklearn.metrics import mean_absolute_error as MAE\n",
        "from sklearn.metrics import mean_squared_error as MSE\n",
        "#from evaluate_metrics import PSNR, SSIM\n",
        "import tensorflow as tf\n",
        "from tensorflow.keras.optimizers import Adam, SGD\n",
        "from tensorflow.keras.callbacks import EarlyStopping, LearningRateScheduler\n",
        "from sklearn.model_selection import KFold\n",
        "import tensorflow.keras.backend as K\n",
        "from superscript import get_super\n"
      ]
    },
    {
      "cell_type": "code",
      "execution_count": null,
      "metadata": {
        "id": "IFhfSusGTyN1"
      },
      "outputs": [],
      "source": [
        "def scheduler(epoch, lr):\n",
        "   if epoch < 10:\n",
        "     return lr\n",
        "   else:\n",
        "     return lr*math.exp(-0.1)\n",
        "   #if epoch <30:\n",
        "      #return 0.0005\n"
      ]
    },
    {
      "cell_type": "code",
      "execution_count": null,
      "metadata": {
        "id": "VljGMQetVNwZ"
      },
      "outputs": [],
      "source": [
        "LS=tf.keras.callbacks.LearningRateScheduler(scheduler)"
      ]
    },
    {
      "cell_type": "markdown",
      "metadata": {
        "id": "RZ0Rpt7IyV1n"
      },
      "source": [
        "#Importing data"
      ]
    },
    {
      "cell_type": "code",
      "execution_count": 15,
      "metadata": {
        "id": "tMURxAlKdx1m"
      },
      "outputs": [],
      "source": [
        "#importing data\n",
        "hf_data=h5py.File('/content/drive/MyDrive/data_f.h5', 'r')\n",
        "data = hf_data['data'][...]\n",
        "hf_data.close()\n",
        "hf_mua=h5py.File('/content/drive/MyDrive/mua_f.h5', 'r')\n",
        "mua = hf_mua['mua'][...]\n",
        "hf_mua.close()"
      ]
    },
    {
      "cell_type": "code",
      "execution_count": 16,
      "metadata": {
        "id": "TFBO0uErdTAm"
      },
      "outputs": [],
      "source": [
        "# prepare the cross-validation procedure\n",
        "cv = KFold(n_splits=10, random_state=1, shuffle=True)\n"
      ]
    },
    {
      "cell_type": "code",
      "execution_count": 17,
      "metadata": {
        "id": "BTFNjoQcd0NI"
      },
      "outputs": [],
      "source": [
        "#splitting dataset into train,val and test for NOT proccessed dataset\n",
        "seed=7\n",
        "np.random.seed(seed)\n",
        "data_train, data_test, mua_train, mua_test = train_test_split(data, mua, test_size=0.1, random_state=seed)\n",
        "data_train, data_val, mua_train, mua_val = train_test_split(data_train, mua_train, test_size=0.05, random_state=seed)\n",
        "\n",
        "data_train=data_train.astype('float32'); data_test=data_test.astype('float32'); data_val=data_val.astype('float32')\n",
        "mua_train=mua_train.astype('float32'); mua_test=mua_test.astype('float32'); mua_val=mua_val.astype('float32')"
      ]
    },
    {
      "cell_type": "code",
      "execution_count": 18,
      "metadata": {
        "id": "DERYIW70u7T7",
        "colab": {
          "base_uri": "https://localhost:8080/"
        },
        "outputId": "121c933d-68e9-43c2-c040-0fd832d53b9b"
      },
      "outputs": [
        {
          "output_type": "stream",
          "name": "stdout",
          "text": [
            "number of train data is: 18168\n",
            "number of test data is: 2125\n",
            "number of validation data is: 957\n"
          ]
        }
      ],
      "source": [
        "print('number of train data is:',len(data_train))\n",
        "print('number of test data is:',len(data_test))\n",
        "print('number of validation data is:',len(data_val))"
      ]
    },
    {
      "cell_type": "code",
      "execution_count": 19,
      "metadata": {
        "id": "xKnSgItmBzZ7"
      },
      "outputs": [],
      "source": [
        "def scaled_data(data_train, data_test, data_val, scaler):\n",
        "  data_train=data_train.reshape(data_train.shape[0], data_train.shape[1])\n",
        "  data_test=data_test.reshape(data_test.shape[0], data_test.shape[1])\n",
        "  data_val=data_val.reshape(data_val.shape[0], data_val.shape[1])\n",
        "\n",
        "  scaled_data_train=scaler.fit_transform(data_train)\n",
        "  scaled_data_test=scaler.transform(data_test)\n",
        "  scaled_data_val=scaler.transform(data_val)\n",
        "\n",
        "  # inverse transform\n",
        "  inverse_data_train = scaler.inverse_transform(scaled_data_train)\n",
        "  inverse_data_test = scaler.inverse_transform(scaled_data_test)\n",
        "  inverse_data_val = scaler.inverse_transform(scaled_data_val)\n",
        "  return scaled_data_train, scaled_data_test, scaled_data_val, inverse_data_train, inverse_data_test, scaled_data_val"
      ]
    },
    {
      "cell_type": "code",
      "execution_count": 20,
      "metadata": {
        "id": "JP39PN1z5157"
      },
      "outputs": [],
      "source": [
        "#normalize data and test\n",
        "norm_data_scaler=MinMaxScaler(feature_range=(0,1))\n",
        "norm_data_train, norm_data_test, norm_data_val, inverse_ndata_train, inverse_ndata_test, inverse_ndata_val = scaled_data(data_train, data_test, data_val, norm_data_scaler)\n",
        "\n",
        "#standardize data train and test\n",
        "standard_data_scaler=StandardScaler()\n",
        "standard_data_train, standard_data_test, standard_data_val, inverse_sdata_train, inverse_sdata_test, inverse_sdata_val = scaled_data(data_train, data_test, data_val, standard_data_scaler)\n",
        "\n",
        "#normalize mua train and test\n",
        "norm_mua_scaler=MinMaxScaler(feature_range=(0,1))\n",
        "norm_mua_train, norm_mua_test, norm_mua_val, inverse_nmua_train, inverse_nmua_test, inverse_nmua_val = scaled_data(mua_train, mua_test, mua_val, norm_mua_scaler)\n",
        "\n",
        "#standardize mua train and test\n",
        "standard_mua_scaler=StandardScaler()\n",
        "standard_mua_train, standard_mua_test, standard_mua_val, inverse_smua_train, inverse_smua_test, inverse_smua_val = scaled_data(mua_train, mua_test, mua_val, standard_mua_scaler)"
      ]
    },
    {
      "cell_type": "code",
      "execution_count": 21,
      "metadata": {
        "id": "Cn0xZFe6FZAb"
      },
      "outputs": [],
      "source": [
        "#standardizing norm data\n",
        "standard_ndata_scaler=StandardScaler()\n",
        "standard_ndata_train, standard_ndata_test, standard_ndata_val, inverse_sndata_train, inverse_sndata_test, inverse_sndata_val = scaled_data(norm_data_train, norm_data_test, norm_data_val, standard_ndata_scaler)"
      ]
    },
    {
      "cell_type": "code",
      "execution_count": 22,
      "metadata": {
        "id": "6Rw_VScNol4y"
      },
      "outputs": [],
      "source": [
        "EL=EarlyStopping(monitor='val_loss', min_delta=1e-9, patience=5, mode='auto')"
      ]
    },
    {
      "cell_type": "markdown",
      "source": [
        "#Importing models and Evaluate matrics"
      ],
      "metadata": {
        "id": "RWVL9PogoBvo"
      }
    },
    {
      "cell_type": "code",
      "source": [
        "from DLModels import MLP_model, DOT_convnet, Single_layer, dense_conv, cnn_2\n",
        "from metrics import MAE, MSE, PSNR, SSIM"
      ],
      "metadata": {
        "id": "UKA12XwfoNs1"
      },
      "execution_count": 25,
      "outputs": []
    },
    {
      "cell_type": "markdown",
      "source": [
        "#Train, Test, Evaluation dataset for prepared model"
      ],
      "metadata": {
        "id": "56CeHf1h_kn4"
      }
    },
    {
      "cell_type": "code",
      "source": [
        "#Normalize data (input) train, test, val for mlp_model, single_layer, Dense_conv\n",
        "norm_data_train=norm_data_train.reshape(len(norm_data_train), 625, 1)\n",
        "norm_data_test=norm_data_test.reshape(len(norm_data_test), 625, 1)\n",
        "norm_data_val=norm_data_val.reshape(len(norm_data_val), 625, 1)\n",
        "\n",
        "#Normalize data (input) train, test, val for DOT_convnet and cnn2\n",
        "norm_data_train_conv=norm_data_train.reshape(len(norm_data_train), 25, 25, 1)\n",
        "norm_data_test_conv=norm_data_test.reshape(len(norm_data_test), 25, 25, 1)\n",
        "\n",
        "#Normalize mua (label) train, test, val for mlp_model, DOT_convnet, Single_layer, cnn2\n",
        "mua_train=mua_train.reshape(len(mua_train), 4096,1)\n",
        "mua_test=mua_test.reshape(len(mua_test), 4096, 1)\n",
        "mua_val=mua_val.reshape(len(mua_val), 4096, 1)"
      ],
      "metadata": {
        "id": "UokNjeWQ_upa"
      },
      "execution_count": 26,
      "outputs": []
    },
    {
      "cell_type": "markdown",
      "metadata": {
        "id": "tpdVzexWy09c"
      },
      "source": [
        "#MLP_model (FCNN)"
      ]
    },
    {
      "cell_type": "markdown",
      "source": [
        "**Fitting MLP_model**"
      ],
      "metadata": {
        "id": "_n090My5HfZ5"
      }
    },
    {
      "cell_type": "code",
      "execution_count": 27,
      "metadata": {
        "id": "XMH0AuIVaSZs",
        "colab": {
          "base_uri": "https://localhost:8080/",
          "height": 1000
        },
        "outputId": "d9d6ec45-8060-423c-d9b9-409ad17faaaf"
      },
      "outputs": [
        {
          "output_type": "stream",
          "name": "stdout",
          "text": [
            "Model: \"sequential\"\n",
            "_________________________________________________________________\n",
            " Layer (type)                Output Shape              Param #   \n",
            "=================================================================\n",
            " dense (Dense)               (None, 256)               160256    \n",
            "                                                                 \n",
            " gaussian_noise (GaussianNoi  (None, 256)              0         \n",
            " se)                                                             \n",
            "                                                                 \n",
            " dense_1 (Dense)             (None, 256)               65792     \n",
            "                                                                 \n",
            " dense_2 (Dense)             (None, 625)               160625    \n",
            "                                                                 \n",
            " dense_3 (Dense)             (None, 625)               391250    \n",
            "                                                                 \n",
            " dense_4 (Dense)             (None, 625)               391250    \n",
            "                                                                 \n",
            " dense_5 (Dense)             (None, 625)               391250    \n",
            "                                                                 \n",
            " dense_6 (Dense)             (None, 1024)              641024    \n",
            "                                                                 \n",
            " dense_7 (Dense)             (None, 4096)              4198400   \n",
            "                                                                 \n",
            "=================================================================\n",
            "Total params: 6,399,847\n",
            "Trainable params: 6,399,847\n",
            "Non-trainable params: 0\n",
            "_________________________________________________________________\n",
            "Epoch 1/1000\n",
            "142/142 [==============================] - 31s 195ms/step - loss: 1.4624e-04 - mean_absolute_error: 0.0068 - val_loss: 1.2549e-04 - val_mean_absolute_error: 0.0060\n",
            "Epoch 2/1000\n",
            "142/142 [==============================] - 27s 187ms/step - loss: 1.1821e-04 - mean_absolute_error: 0.0054 - val_loss: 1.1794e-04 - val_mean_absolute_error: 0.0051\n",
            "Epoch 3/1000\n",
            "142/142 [==============================] - 27s 189ms/step - loss: 1.0956e-04 - mean_absolute_error: 0.0049 - val_loss: 1.0750e-04 - val_mean_absolute_error: 0.0052\n",
            "Epoch 4/1000\n",
            "142/142 [==============================] - 27s 190ms/step - loss: 9.8597e-05 - mean_absolute_error: 0.0045 - val_loss: 9.7052e-05 - val_mean_absolute_error: 0.0041\n",
            "Epoch 5/1000\n",
            "142/142 [==============================] - 29s 207ms/step - loss: 9.2495e-05 - mean_absolute_error: 0.0042 - val_loss: 9.0861e-05 - val_mean_absolute_error: 0.0045\n",
            "Epoch 6/1000\n",
            "142/142 [==============================] - 26s 183ms/step - loss: 8.2346e-05 - mean_absolute_error: 0.0041 - val_loss: 7.6075e-05 - val_mean_absolute_error: 0.0037\n",
            "Epoch 7/1000\n",
            "142/142 [==============================] - 27s 186ms/step - loss: 7.2689e-05 - mean_absolute_error: 0.0037 - val_loss: 7.0574e-05 - val_mean_absolute_error: 0.0036\n",
            "Epoch 8/1000\n",
            "142/142 [==============================] - 27s 188ms/step - loss: 6.8086e-05 - mean_absolute_error: 0.0035 - val_loss: 6.7851e-05 - val_mean_absolute_error: 0.0034\n",
            "Epoch 9/1000\n",
            "142/142 [==============================] - 26s 181ms/step - loss: 6.5934e-05 - mean_absolute_error: 0.0034 - val_loss: 6.4057e-05 - val_mean_absolute_error: 0.0033\n",
            "Epoch 10/1000\n",
            "142/142 [==============================] - 27s 188ms/step - loss: 6.3673e-05 - mean_absolute_error: 0.0034 - val_loss: 6.2021e-05 - val_mean_absolute_error: 0.0034\n",
            "Epoch 11/1000\n",
            "142/142 [==============================] - 29s 202ms/step - loss: 6.2303e-05 - mean_absolute_error: 0.0034 - val_loss: 5.9990e-05 - val_mean_absolute_error: 0.0032\n",
            "Epoch 12/1000\n",
            "142/142 [==============================] - 27s 189ms/step - loss: 5.0524e-05 - mean_absolute_error: 0.0032 - val_loss: 4.4581e-05 - val_mean_absolute_error: 0.0030\n",
            "Epoch 13/1000\n",
            "142/142 [==============================] - 25s 175ms/step - loss: 4.2749e-05 - mean_absolute_error: 0.0029 - val_loss: 4.2217e-05 - val_mean_absolute_error: 0.0028\n",
            "Epoch 14/1000\n",
            "142/142 [==============================] - 27s 189ms/step - loss: 3.9962e-05 - mean_absolute_error: 0.0027 - val_loss: 3.7969e-05 - val_mean_absolute_error: 0.0027\n",
            "Epoch 15/1000\n",
            "142/142 [==============================] - 25s 179ms/step - loss: 3.7966e-05 - mean_absolute_error: 0.0026 - val_loss: 3.7495e-05 - val_mean_absolute_error: 0.0026\n",
            "Epoch 16/1000\n",
            "142/142 [==============================] - 27s 190ms/step - loss: 3.6493e-05 - mean_absolute_error: 0.0026 - val_loss: 3.6938e-05 - val_mean_absolute_error: 0.0026\n",
            "Epoch 17/1000\n",
            "142/142 [==============================] - 27s 194ms/step - loss: 3.5672e-05 - mean_absolute_error: 0.0025 - val_loss: 3.5512e-05 - val_mean_absolute_error: 0.0025\n",
            "Epoch 18/1000\n",
            "142/142 [==============================] - 26s 180ms/step - loss: 3.5116e-05 - mean_absolute_error: 0.0025 - val_loss: 3.5169e-05 - val_mean_absolute_error: 0.0024\n",
            "Epoch 19/1000\n",
            "142/142 [==============================] - 28s 194ms/step - loss: 3.4819e-05 - mean_absolute_error: 0.0024 - val_loss: 3.4394e-05 - val_mean_absolute_error: 0.0024\n",
            "Epoch 20/1000\n",
            "142/142 [==============================] - 26s 186ms/step - loss: 3.3749e-05 - mean_absolute_error: 0.0024 - val_loss: 3.2888e-05 - val_mean_absolute_error: 0.0024\n",
            "Epoch 21/1000\n",
            "142/142 [==============================] - 27s 190ms/step - loss: 3.2732e-05 - mean_absolute_error: 0.0023 - val_loss: 3.3093e-05 - val_mean_absolute_error: 0.0023\n",
            "Epoch 22/1000\n",
            "142/142 [==============================] - 26s 184ms/step - loss: 3.2569e-05 - mean_absolute_error: 0.0023 - val_loss: 3.2657e-05 - val_mean_absolute_error: 0.0023\n",
            "Epoch 23/1000\n",
            "142/142 [==============================] - 28s 194ms/step - loss: 3.2656e-05 - mean_absolute_error: 0.0023 - val_loss: 3.4068e-05 - val_mean_absolute_error: 0.0024\n",
            "Epoch 24/1000\n",
            "142/142 [==============================] - 27s 191ms/step - loss: 3.2027e-05 - mean_absolute_error: 0.0023 - val_loss: 3.1862e-05 - val_mean_absolute_error: 0.0022\n",
            "Epoch 25/1000\n",
            "142/142 [==============================] - 26s 183ms/step - loss: 3.1168e-05 - mean_absolute_error: 0.0022 - val_loss: 3.3481e-05 - val_mean_absolute_error: 0.0023\n",
            "Epoch 26/1000\n",
            "142/142 [==============================] - 26s 187ms/step - loss: 3.1200e-05 - mean_absolute_error: 0.0022 - val_loss: 3.2777e-05 - val_mean_absolute_error: 0.0022\n",
            "Epoch 27/1000\n",
            "142/142 [==============================] - 26s 183ms/step - loss: 3.0686e-05 - mean_absolute_error: 0.0022 - val_loss: 3.2207e-05 - val_mean_absolute_error: 0.0022\n",
            "Epoch 28/1000\n",
            "142/142 [==============================] - 27s 189ms/step - loss: 3.0334e-05 - mean_absolute_error: 0.0022 - val_loss: 3.1894e-05 - val_mean_absolute_error: 0.0022\n",
            "Epoch 29/1000\n",
            "142/142 [==============================] - 26s 182ms/step - loss: 3.0269e-05 - mean_absolute_error: 0.0022 - val_loss: 3.1386e-05 - val_mean_absolute_error: 0.0022\n",
            "Epoch 30/1000\n",
            "142/142 [==============================] - 28s 197ms/step - loss: 3.0166e-05 - mean_absolute_error: 0.0021 - val_loss: 3.0641e-05 - val_mean_absolute_error: 0.0021\n",
            "Epoch 31/1000\n",
            "142/142 [==============================] - 27s 188ms/step - loss: 2.9667e-05 - mean_absolute_error: 0.0021 - val_loss: 3.1549e-05 - val_mean_absolute_error: 0.0022\n",
            "Epoch 32/1000\n",
            "142/142 [==============================] - 27s 193ms/step - loss: 2.9096e-05 - mean_absolute_error: 0.0021 - val_loss: 2.9883e-05 - val_mean_absolute_error: 0.0021\n",
            "Epoch 33/1000\n",
            "142/142 [==============================] - 26s 186ms/step - loss: 2.8907e-05 - mean_absolute_error: 0.0021 - val_loss: 3.4210e-05 - val_mean_absolute_error: 0.0023\n",
            "Epoch 34/1000\n",
            "142/142 [==============================] - 26s 185ms/step - loss: 2.8772e-05 - mean_absolute_error: 0.0021 - val_loss: 2.9154e-05 - val_mean_absolute_error: 0.0021\n",
            "Epoch 35/1000\n",
            "142/142 [==============================] - 25s 179ms/step - loss: 2.8599e-05 - mean_absolute_error: 0.0021 - val_loss: 3.1052e-05 - val_mean_absolute_error: 0.0021\n",
            "Epoch 36/1000\n",
            "142/142 [==============================] - 28s 198ms/step - loss: 2.8398e-05 - mean_absolute_error: 0.0021 - val_loss: 2.9546e-05 - val_mean_absolute_error: 0.0021\n",
            "Epoch 37/1000\n",
            "142/142 [==============================] - 26s 182ms/step - loss: 2.8316e-05 - mean_absolute_error: 0.0021 - val_loss: 2.8977e-05 - val_mean_absolute_error: 0.0021\n",
            "Epoch 38/1000\n",
            "142/142 [==============================] - 25s 179ms/step - loss: 2.8148e-05 - mean_absolute_error: 0.0020 - val_loss: 3.0106e-05 - val_mean_absolute_error: 0.0020\n",
            "Epoch 39/1000\n",
            "142/142 [==============================] - 26s 181ms/step - loss: 2.8460e-05 - mean_absolute_error: 0.0021 - val_loss: 2.8925e-05 - val_mean_absolute_error: 0.0021\n",
            "Epoch 40/1000\n",
            "142/142 [==============================] - 26s 183ms/step - loss: 2.7395e-05 - mean_absolute_error: 0.0020 - val_loss: 2.8211e-05 - val_mean_absolute_error: 0.0021\n",
            "Epoch 41/1000\n",
            "142/142 [==============================] - 26s 183ms/step - loss: 2.7276e-05 - mean_absolute_error: 0.0020 - val_loss: 2.7547e-05 - val_mean_absolute_error: 0.0020\n",
            "Epoch 42/1000\n",
            "142/142 [==============================] - 27s 192ms/step - loss: 2.6634e-05 - mean_absolute_error: 0.0020 - val_loss: 2.7323e-05 - val_mean_absolute_error: 0.0020\n",
            "Epoch 43/1000\n",
            "142/142 [==============================] - 26s 185ms/step - loss: 2.6491e-05 - mean_absolute_error: 0.0020 - val_loss: 2.9423e-05 - val_mean_absolute_error: 0.0021\n",
            "Epoch 44/1000\n",
            "142/142 [==============================] - 26s 187ms/step - loss: 2.6282e-05 - mean_absolute_error: 0.0020 - val_loss: 2.6504e-05 - val_mean_absolute_error: 0.0020\n",
            "Epoch 45/1000\n",
            "142/142 [==============================] - 25s 179ms/step - loss: 2.6220e-05 - mean_absolute_error: 0.0020 - val_loss: 2.7865e-05 - val_mean_absolute_error: 0.0021\n",
            "Epoch 46/1000\n",
            "142/142 [==============================] - 26s 181ms/step - loss: 2.5938e-05 - mean_absolute_error: 0.0020 - val_loss: 2.6565e-05 - val_mean_absolute_error: 0.0020\n",
            "Epoch 47/1000\n",
            "142/142 [==============================] - 26s 183ms/step - loss: 2.5671e-05 - mean_absolute_error: 0.0019 - val_loss: 2.9258e-05 - val_mean_absolute_error: 0.0021\n",
            "Epoch 48/1000\n",
            "142/142 [==============================] - 27s 192ms/step - loss: 2.5715e-05 - mean_absolute_error: 0.0019 - val_loss: 2.5856e-05 - val_mean_absolute_error: 0.0019\n",
            "Epoch 49/1000\n",
            "142/142 [==============================] - 26s 184ms/step - loss: 2.5074e-05 - mean_absolute_error: 0.0019 - val_loss: 2.6309e-05 - val_mean_absolute_error: 0.0019\n",
            "Epoch 50/1000\n",
            "142/142 [==============================] - 26s 183ms/step - loss: 2.5089e-05 - mean_absolute_error: 0.0019 - val_loss: 2.6486e-05 - val_mean_absolute_error: 0.0020\n",
            "Epoch 51/1000\n",
            "142/142 [==============================] - 26s 183ms/step - loss: 2.4785e-05 - mean_absolute_error: 0.0019 - val_loss: 2.5649e-05 - val_mean_absolute_error: 0.0019\n",
            "Epoch 52/1000\n",
            "142/142 [==============================] - 27s 189ms/step - loss: 2.4527e-05 - mean_absolute_error: 0.0019 - val_loss: 2.5080e-05 - val_mean_absolute_error: 0.0019\n",
            "Epoch 53/1000\n",
            "142/142 [==============================] - 26s 181ms/step - loss: 2.4899e-05 - mean_absolute_error: 0.0019 - val_loss: 2.5732e-05 - val_mean_absolute_error: 0.0019\n",
            "Epoch 54/1000\n",
            "142/142 [==============================] - 26s 181ms/step - loss: 2.4338e-05 - mean_absolute_error: 0.0019 - val_loss: 2.4359e-05 - val_mean_absolute_error: 0.0019\n",
            "Epoch 55/1000\n",
            "142/142 [==============================] - 27s 191ms/step - loss: 2.4282e-05 - mean_absolute_error: 0.0019 - val_loss: 2.4671e-05 - val_mean_absolute_error: 0.0019\n",
            "Epoch 56/1000\n",
            "142/142 [==============================] - 26s 181ms/step - loss: 2.3778e-05 - mean_absolute_error: 0.0019 - val_loss: 2.4131e-05 - val_mean_absolute_error: 0.0019\n",
            "Epoch 57/1000\n",
            "142/142 [==============================] - 26s 184ms/step - loss: 2.3928e-05 - mean_absolute_error: 0.0019 - val_loss: 2.4342e-05 - val_mean_absolute_error: 0.0019\n",
            "Epoch 58/1000\n",
            "142/142 [==============================] - 26s 184ms/step - loss: 2.3464e-05 - mean_absolute_error: 0.0019 - val_loss: 2.4205e-05 - val_mean_absolute_error: 0.0019\n",
            "Epoch 59/1000\n",
            "142/142 [==============================] - 27s 187ms/step - loss: 2.3412e-05 - mean_absolute_error: 0.0019 - val_loss: 2.4278e-05 - val_mean_absolute_error: 0.0019\n",
            "Epoch 60/1000\n",
            "142/142 [==============================] - 26s 185ms/step - loss: 2.3050e-05 - mean_absolute_error: 0.0018 - val_loss: 2.4049e-05 - val_mean_absolute_error: 0.0019\n",
            "Epoch 61/1000\n",
            "142/142 [==============================] - 28s 198ms/step - loss: 2.3301e-05 - mean_absolute_error: 0.0019 - val_loss: 2.4513e-05 - val_mean_absolute_error: 0.0019\n",
            "Epoch 62/1000\n",
            "142/142 [==============================] - 27s 188ms/step - loss: 2.2633e-05 - mean_absolute_error: 0.0018 - val_loss: 2.4091e-05 - val_mean_absolute_error: 0.0018\n",
            "Epoch 63/1000\n",
            "142/142 [==============================] - 27s 189ms/step - loss: 2.2787e-05 - mean_absolute_error: 0.0018 - val_loss: 2.4425e-05 - val_mean_absolute_error: 0.0019\n",
            "Epoch 64/1000\n",
            "142/142 [==============================] - 27s 188ms/step - loss: 2.2374e-05 - mean_absolute_error: 0.0018 - val_loss: 2.4394e-05 - val_mean_absolute_error: 0.0019\n",
            "Epoch 65/1000\n",
            "142/142 [==============================] - 27s 187ms/step - loss: 2.2564e-05 - mean_absolute_error: 0.0018 - val_loss: 2.2942e-05 - val_mean_absolute_error: 0.0018\n",
            "Epoch 66/1000\n",
            "142/142 [==============================] - 27s 194ms/step - loss: 2.2294e-05 - mean_absolute_error: 0.0018 - val_loss: 2.5368e-05 - val_mean_absolute_error: 0.0019\n",
            "Epoch 67/1000\n",
            "142/142 [==============================] - 28s 200ms/step - loss: 2.2302e-05 - mean_absolute_error: 0.0018 - val_loss: 2.4169e-05 - val_mean_absolute_error: 0.0019\n",
            "Epoch 68/1000\n",
            "142/142 [==============================] - 27s 192ms/step - loss: 2.1941e-05 - mean_absolute_error: 0.0018 - val_loss: 2.3612e-05 - val_mean_absolute_error: 0.0019\n",
            "Epoch 69/1000\n",
            "142/142 [==============================] - 27s 189ms/step - loss: 2.1967e-05 - mean_absolute_error: 0.0018 - val_loss: 2.2716e-05 - val_mean_absolute_error: 0.0018\n",
            "Epoch 70/1000\n",
            "142/142 [==============================] - 27s 188ms/step - loss: 2.1136e-05 - mean_absolute_error: 0.0018 - val_loss: 2.2673e-05 - val_mean_absolute_error: 0.0018\n",
            "Epoch 71/1000\n",
            "142/142 [==============================] - 28s 194ms/step - loss: 2.1132e-05 - mean_absolute_error: 0.0018 - val_loss: 2.2821e-05 - val_mean_absolute_error: 0.0018\n",
            "Epoch 72/1000\n",
            "142/142 [==============================] - 26s 182ms/step - loss: 2.1220e-05 - mean_absolute_error: 0.0018 - val_loss: 2.2618e-05 - val_mean_absolute_error: 0.0018\n",
            "Epoch 73/1000\n",
            "142/142 [==============================] - 28s 195ms/step - loss: 2.0930e-05 - mean_absolute_error: 0.0018 - val_loss: 2.3020e-05 - val_mean_absolute_error: 0.0018\n",
            "Epoch 74/1000\n",
            "142/142 [==============================] - 26s 180ms/step - loss: 2.0897e-05 - mean_absolute_error: 0.0017 - val_loss: 2.3082e-05 - val_mean_absolute_error: 0.0018\n",
            "Epoch 75/1000\n",
            "142/142 [==============================] - 27s 188ms/step - loss: 2.1018e-05 - mean_absolute_error: 0.0017 - val_loss: 2.3212e-05 - val_mean_absolute_error: 0.0018\n",
            "Epoch 76/1000\n",
            "142/142 [==============================] - 26s 182ms/step - loss: 2.0663e-05 - mean_absolute_error: 0.0017 - val_loss: 2.2275e-05 - val_mean_absolute_error: 0.0018\n",
            "Epoch 77/1000\n",
            "142/142 [==============================] - 26s 183ms/step - loss: 2.0762e-05 - mean_absolute_error: 0.0017 - val_loss: 2.2673e-05 - val_mean_absolute_error: 0.0018\n",
            "Epoch 78/1000\n",
            "142/142 [==============================] - 27s 188ms/step - loss: 2.0477e-05 - mean_absolute_error: 0.0017 - val_loss: 2.1811e-05 - val_mean_absolute_error: 0.0018\n",
            "Epoch 79/1000\n",
            "142/142 [==============================] - 29s 201ms/step - loss: 2.0685e-05 - mean_absolute_error: 0.0017 - val_loss: 2.2618e-05 - val_mean_absolute_error: 0.0018\n",
            "Epoch 80/1000\n",
            "142/142 [==============================] - 27s 187ms/step - loss: 2.0527e-05 - mean_absolute_error: 0.0017 - val_loss: 2.2227e-05 - val_mean_absolute_error: 0.0018\n",
            "Epoch 81/1000\n",
            "142/142 [==============================] - 27s 194ms/step - loss: 2.0171e-05 - mean_absolute_error: 0.0017 - val_loss: 2.2723e-05 - val_mean_absolute_error: 0.0018\n",
            "Epoch 82/1000\n",
            "142/142 [==============================] - 26s 186ms/step - loss: 2.0462e-05 - mean_absolute_error: 0.0017 - val_loss: 2.3284e-05 - val_mean_absolute_error: 0.0019\n",
            "Epoch 83/1000\n",
            "142/142 [==============================] - 26s 182ms/step - loss: 2.0185e-05 - mean_absolute_error: 0.0017 - val_loss: 2.2245e-05 - val_mean_absolute_error: 0.0018\n",
            "10/10 [==============================] - 1s 76ms/step - loss: 2.1004e-05 - mean_absolute_error: 0.0017\n"
          ]
        },
        {
          "output_type": "display_data",
          "data": {
            "text/plain": [
              "<Figure size 432x288 with 1 Axes>"
            ],
            "image/png": "[encoded data removed]"
          },
          "metadata": {
            "needs_background": "light"
          }
        },
        {
          "output_type": "execute_result",
          "data": {
            "text/plain": [
              "Text(0.5, 1.0, 'learning curve of MLP_model')"
            ]
          },
          "metadata": {},
          "execution_count": 27
        },
        {
          "output_type": "display_data",
          "data": {
            "text/plain": [
              "<Figure size 432x288 with 1 Axes>"
            ],
            "image/png": "[encoded data removed]"
          },
          "metadata": {
            "needs_background": "light"
          }
        }
      ],
      "source": [
        "model_1=MLP_model()\n",
        "history=model_1.fit(norm_data_train, mua_train, epochs=1000, batch_size=128, validation_data=(norm_data_val, mua_val), callbacks=[EL])#,LS])\n",
        "#round(model.optimizer.lr.numpy(), 5)\n",
        "test_loss=model_1.evaluate(norm_data_test, mua_test, steps=10)\n",
        "plt.plot(history.history['mean_absolute_error'])\n",
        "plt.plot(history.history['val_mean_absolute_error'])\n",
        "plt.show()\n",
        "#plot learning curves\n",
        "plt.plot(history.history['loss'], label='train')\n",
        "plt.plot(history.history['val_loss'], label='test')\n",
        "plt.legend()\n",
        "plt.title('learning curve of MLP_model', pad=-50)"
      ]
    },
    {
      "cell_type": "markdown",
      "source": [
        "**Predict by MLP_model**"
      ],
      "metadata": {
        "id": "H1dQtPVuA8i7"
      }
    },
    {
      "cell_type": "code",
      "execution_count": 30,
      "metadata": {
        "id": "uC5tx98aVX4n",
        "colab": {
          "base_uri": "https://localhost:8080/",
          "height": 315
        },
        "outputId": "c1dfa2e8-87ea-427a-8f34-33e9017257e5"
      },
      "outputs": [
        {
          "output_type": "stream",
          "name": "stdout",
          "text": [
            "67/67 [==============================] - 1s 19ms/step\n"
          ]
        },
        {
          "output_type": "execute_result",
          "data": {
            "text/plain": [
              "<matplotlib.colorbar.Colorbar at 0x7f08708ac940>"
            ]
          },
          "metadata": {},
          "execution_count": 30
        },
        {
          "output_type": "display_data",
          "data": {
            "text/plain": [
              "<Figure size 432x288 with 3 Axes>"
            ],
            "image/png": "[encoded data removed]"
          },
          "metadata": {
            "needs_background": "light"
          }
        }
      ],
      "source": [
        "mua_MLP_hat=model_1.predict(norm_data_test) # mua_MLP_hat is predicted mua by MLP_model\n",
        "index=105\n",
        "\n",
        "#display predicted by MLP_model\n",
        "\n",
        "plt.imshow(mua_MLP_hat[105].reshape(64,64))\n",
        "plt.title('Prediction by MLP_model')\n",
        "plt.colorbar()\n",
        "\n",
        "#displays ground truth\n",
        "plt.imshow(mua_test[index].reshape(64,64))\n",
        "plt.title('Ground truth compared to MLP model - \\u03BCa=0.08 mm{}'.format(get_super(\"-1\")))\n",
        "plt.colorbar()"
      ]
    },
    {
      "cell_type": "markdown",
      "source": [
        "**Evaluate MLP_model**"
      ],
      "metadata": {
        "id": "1zxfmVpQGxEG"
      }
    },
    {
      "cell_type": "code",
      "execution_count": 31,
      "metadata": {
        "id": "yK9sBV__wLm2",
        "colab": {
          "base_uri": "https://localhost:8080/"
        },
        "outputId": "1ca3ded2-fc48-405d-a56f-0e8b01dd34f4"
      },
      "outputs": [
        {
          "output_type": "stream",
          "name": "stdout",
          "text": [
            "Mean Absolute Error: 0.0005705206422135234\n",
            "Mean Squared Error: 9.080138170247665e-07\n",
            "Peak Signal to Noise Ratio: 23.94090041572324\n"
          ]
        }
      ],
      "source": [
        "index=100\n",
        "y_test=mua_test[index].reshape(64,64) # y_test is mua_test\n",
        "y_mlp_pred=mua_MLP_hat[index].reshape(64,64) #y_mlp_pred is predicted mua by mlp\n",
        "mae_mlp=MAE(y_test, y_mlp_pred)\n",
        "mse_mlp=MSE(y_test, y_mlp_pred)\n",
        "psnr_mlp=PSNR(y_test, y_mlp_pred)\n",
        "print('Mean Absolute Error:', mae_mlp)\n",
        "print('Mean Squared Error:', mse_mlp)\n",
        "print('Peak Signal to Noise Ratio:', psnr_mlp)"
      ]
    },
    {
      "cell_type": "markdown",
      "source": [
        "**Saving MLP_model as mlp_model.h5**"
      ],
      "metadata": {
        "id": "FxfCOH2FHnNC"
      }
    },
    {
      "cell_type": "code",
      "execution_count": 32,
      "metadata": {
        "id": "STi8wNhxN0Uv"
      },
      "outputs": [],
      "source": [
        "##save model_1 (model_1 is fcnn)\n",
        "model_1.save('/content/drive/MyDrive/mlp_model.h5')"
      ]
    },
    {
      "cell_type": "markdown",
      "metadata": {
        "id": "tOdKc2mEzgHx"
      },
      "source": [
        "#DOT_convnet (Convolutional neural  network)"
      ]
    },
    {
      "cell_type": "markdown",
      "source": [
        "**Fitting DOT_convnet model**"
      ],
      "metadata": {
        "id": "j62fECpeRUr1"
      }
    },
    {
      "cell_type": "code",
      "source": [
        "model_2=DOT_convnet()\n",
        "history=model_2.fit(norm_data_train_conv, mua_train, epochs=1000, batch_size=128, validation_data=(norm_data_test_conv, mua_test), callbacks=[EL])\n",
        "test_loss=model_2.evaluate(norm_data_test_conv, mua_test, steps=10)\n",
        "#plot learning curves\n",
        "plt.plot(history.history['loss'], label='train')\n",
        "plt.plot(history.history['val_loss'], label='test')\n",
        "plt.legend()\n",
        "plt.title('learning curve of DOT_convnet model', pad=-50)"
      ],
      "metadata": {
        "id": "SAw_yTouMg7j",
        "colab": {
          "base_uri": "https://localhost:8080/",
          "height": 1000
        },
        "outputId": "389f311f-a0de-41ee-f2fa-4b16bcd942b1"
      },
      "execution_count": 34,
      "outputs": [
        {
          "output_type": "stream",
          "name": "stdout",
          "text": [
            "Model: \"sequential_2\"\n",
            "_________________________________________________________________\n",
            " Layer (type)                Output Shape              Param #   \n",
            "=================================================================\n",
            " conv2d_4 (Conv2D)           (None, 25, 25, 32)        160       \n",
            "                                                                 \n",
            " conv2d_5 (Conv2D)           (None, 25, 25, 32)        4128      \n",
            "                                                                 \n",
            " max_pooling2d_2 (MaxPooling  (None, 12, 12, 32)       0         \n",
            " 2D)                                                             \n",
            "                                                                 \n",
            " conv2d_6 (Conv2D)           (None, 12, 12, 64)        18496     \n",
            "                                                                 \n",
            " conv2d_7 (Conv2D)           (None, 12, 12, 64)        36928     \n",
            "                                                                 \n",
            " max_pooling2d_3 (MaxPooling  (None, 6, 6, 64)         0         \n",
            " 2D)                                                             \n",
            "                                                                 \n",
            " flatten_1 (Flatten)         (None, 2304)              0         \n",
            "                                                                 \n",
            " dense_10 (Dense)            (None, 625)               1440625   \n",
            "                                                                 \n",
            " dense_11 (Dense)            (None, 4096)              2564096   \n",
            "                                                                 \n",
            "=================================================================\n",
            "Total params: 4,064,433\n",
            "Trainable params: 4,064,433\n",
            "Non-trainable params: 0\n",
            "_________________________________________________________________\n",
            "Epoch 1/1000\n",
            "142/142 [==============================] - 58s 405ms/step - loss: 1.4317e-04 - mae: 0.0069 - val_loss: 1.1570e-04 - val_mae: 0.0057\n",
            "Epoch 2/1000\n",
            "142/142 [==============================] - 55s 390ms/step - loss: 9.2792e-05 - mae: 0.0049 - val_loss: 7.3705e-05 - val_mae: 0.0046\n",
            "Epoch 3/1000\n",
            "142/142 [==============================] - 56s 391ms/step - loss: 6.0425e-05 - mae: 0.0038 - val_loss: 5.4062e-05 - val_mae: 0.0037\n",
            "Epoch 4/1000\n",
            "142/142 [==============================] - 58s 407ms/step - loss: 4.9226e-05 - mae: 0.0034 - val_loss: 4.6405e-05 - val_mae: 0.0033\n",
            "Epoch 5/1000\n",
            "142/142 [==============================] - 56s 392ms/step - loss: 4.3210e-05 - mae: 0.0031 - val_loss: 4.0967e-05 - val_mae: 0.0030\n",
            "Epoch 6/1000\n",
            "142/142 [==============================] - 58s 406ms/step - loss: 3.8789e-05 - mae: 0.0029 - val_loss: 3.8079e-05 - val_mae: 0.0029\n",
            "Epoch 7/1000\n",
            "142/142 [==============================] - 56s 396ms/step - loss: 3.6517e-05 - mae: 0.0028 - val_loss: 3.6068e-05 - val_mae: 0.0028\n",
            "Epoch 8/1000\n",
            "142/142 [==============================] - 57s 401ms/step - loss: 3.4616e-05 - mae: 0.0027 - val_loss: 3.4401e-05 - val_mae: 0.0027\n",
            "Epoch 9/1000\n",
            "142/142 [==============================] - 59s 418ms/step - loss: 3.2925e-05 - mae: 0.0026 - val_loss: 3.2964e-05 - val_mae: 0.0026\n",
            "Epoch 10/1000\n",
            "142/142 [==============================] - 56s 398ms/step - loss: 3.1337e-05 - mae: 0.0025 - val_loss: 3.0995e-05 - val_mae: 0.0025\n",
            "Epoch 11/1000\n",
            "142/142 [==============================] - 56s 396ms/step - loss: 2.9908e-05 - mae: 0.0025 - val_loss: 3.0038e-05 - val_mae: 0.0025\n",
            "Epoch 12/1000\n",
            "142/142 [==============================] - 58s 409ms/step - loss: 2.8778e-05 - mae: 0.0024 - val_loss: 2.8957e-05 - val_mae: 0.0024\n",
            "Epoch 13/1000\n",
            "142/142 [==============================] - 56s 393ms/step - loss: 2.7827e-05 - mae: 0.0024 - val_loss: 2.7910e-05 - val_mae: 0.0023\n",
            "Epoch 14/1000\n",
            "142/142 [==============================] - 57s 401ms/step - loss: 2.6958e-05 - mae: 0.0023 - val_loss: 2.7199e-05 - val_mae: 0.0023\n",
            "Epoch 15/1000\n",
            "142/142 [==============================] - 58s 412ms/step - loss: 2.6438e-05 - mae: 0.0023 - val_loss: 2.6661e-05 - val_mae: 0.0023\n",
            "Epoch 16/1000\n",
            "142/142 [==============================] - 56s 394ms/step - loss: 2.6052e-05 - mae: 0.0023 - val_loss: 2.7011e-05 - val_mae: 0.0022\n",
            "Epoch 17/1000\n",
            "142/142 [==============================] - 56s 394ms/step - loss: 2.5443e-05 - mae: 0.0022 - val_loss: 2.5747e-05 - val_mae: 0.0022\n",
            "Epoch 18/1000\n",
            "142/142 [==============================] - 58s 409ms/step - loss: 2.4984e-05 - mae: 0.0022 - val_loss: 2.5761e-05 - val_mae: 0.0022\n",
            "Epoch 19/1000\n",
            "142/142 [==============================] - 56s 391ms/step - loss: 2.4769e-05 - mae: 0.0022 - val_loss: 2.5382e-05 - val_mae: 0.0022\n",
            "Epoch 20/1000\n",
            "142/142 [==============================] - 56s 393ms/step - loss: 2.4019e-05 - mae: 0.0021 - val_loss: 2.4272e-05 - val_mae: 0.0021\n",
            "Epoch 21/1000\n",
            "142/142 [==============================] - 59s 415ms/step - loss: 2.3418e-05 - mae: 0.0021 - val_loss: 2.4537e-05 - val_mae: 0.0021\n",
            "Epoch 22/1000\n",
            "142/142 [==============================] - 57s 399ms/step - loss: 2.3203e-05 - mae: 0.0021 - val_loss: 2.3599e-05 - val_mae: 0.0021\n",
            "Epoch 23/1000\n",
            "142/142 [==============================] - 57s 399ms/step - loss: 2.2889e-05 - mae: 0.0021 - val_loss: 2.3344e-05 - val_mae: 0.0021\n",
            "Epoch 24/1000\n",
            "142/142 [==============================] - 57s 405ms/step - loss: 2.2661e-05 - mae: 0.0021 - val_loss: 2.2883e-05 - val_mae: 0.0021\n",
            "Epoch 25/1000\n",
            "142/142 [==============================] - 56s 393ms/step - loss: 2.2375e-05 - mae: 0.0021 - val_loss: 2.2817e-05 - val_mae: 0.0021\n",
            "Epoch 26/1000\n",
            "142/142 [==============================] - 59s 415ms/step - loss: 2.2081e-05 - mae: 0.0020 - val_loss: 2.2953e-05 - val_mae: 0.0021\n",
            "Epoch 27/1000\n",
            "142/142 [==============================] - 57s 399ms/step - loss: 2.1783e-05 - mae: 0.0020 - val_loss: 2.2541e-05 - val_mae: 0.0020\n",
            "Epoch 28/1000\n",
            "142/142 [==============================] - 57s 402ms/step - loss: 2.1534e-05 - mae: 0.0020 - val_loss: 2.2143e-05 - val_mae: 0.0020\n",
            "Epoch 29/1000\n",
            "142/142 [==============================] - 58s 412ms/step - loss: 2.1354e-05 - mae: 0.0020 - val_loss: 2.2527e-05 - val_mae: 0.0021\n",
            "Epoch 30/1000\n",
            "142/142 [==============================] - 57s 402ms/step - loss: 2.0929e-05 - mae: 0.0020 - val_loss: 2.1422e-05 - val_mae: 0.0020\n",
            "Epoch 31/1000\n",
            "142/142 [==============================] - 56s 395ms/step - loss: 2.0426e-05 - mae: 0.0020 - val_loss: 2.1515e-05 - val_mae: 0.0020\n",
            "Epoch 32/1000\n",
            "142/142 [==============================] - 58s 410ms/step - loss: 2.0216e-05 - mae: 0.0019 - val_loss: 2.1306e-05 - val_mae: 0.0019\n",
            "Epoch 33/1000\n",
            "142/142 [==============================] - 57s 398ms/step - loss: 2.0300e-05 - mae: 0.0019 - val_loss: 2.0985e-05 - val_mae: 0.0020\n",
            "Epoch 34/1000\n",
            "142/142 [==============================] - 57s 402ms/step - loss: 1.9778e-05 - mae: 0.0019 - val_loss: 2.0618e-05 - val_mae: 0.0019\n",
            "Epoch 35/1000\n",
            "142/142 [==============================] - 63s 443ms/step - loss: 1.9512e-05 - mae: 0.0019 - val_loss: 2.0415e-05 - val_mae: 0.0019\n",
            "Epoch 36/1000\n",
            "142/142 [==============================] - 56s 392ms/step - loss: 1.9328e-05 - mae: 0.0019 - val_loss: 2.0203e-05 - val_mae: 0.0019\n",
            "Epoch 37/1000\n",
            "142/142 [==============================] - 57s 401ms/step - loss: 1.9211e-05 - mae: 0.0019 - val_loss: 2.0532e-05 - val_mae: 0.0019\n",
            "Epoch 38/1000\n",
            "142/142 [==============================] - 58s 408ms/step - loss: 1.8999e-05 - mae: 0.0019 - val_loss: 1.9584e-05 - val_mae: 0.0018\n",
            "Epoch 39/1000\n",
            "142/142 [==============================] - 57s 401ms/step - loss: 1.8508e-05 - mae: 0.0019 - val_loss: 1.9472e-05 - val_mae: 0.0019\n",
            "Epoch 40/1000\n",
            "142/142 [==============================] - 56s 397ms/step - loss: 1.8292e-05 - mae: 0.0018 - val_loss: 1.9260e-05 - val_mae: 0.0019\n",
            "Epoch 41/1000\n",
            "142/142 [==============================] - 59s 415ms/step - loss: 1.8206e-05 - mae: 0.0018 - val_loss: 1.9030e-05 - val_mae: 0.0019\n",
            "Epoch 42/1000\n",
            "142/142 [==============================] - 57s 401ms/step - loss: 1.8094e-05 - mae: 0.0018 - val_loss: 1.9202e-05 - val_mae: 0.0019\n",
            "Epoch 43/1000\n",
            "142/142 [==============================] - 56s 396ms/step - loss: 1.7785e-05 - mae: 0.0018 - val_loss: 1.8912e-05 - val_mae: 0.0019\n",
            "Epoch 44/1000\n",
            "142/142 [==============================] - 59s 411ms/step - loss: 1.7737e-05 - mae: 0.0018 - val_loss: 1.8649e-05 - val_mae: 0.0018\n",
            "Epoch 45/1000\n",
            "142/142 [==============================] - 56s 398ms/step - loss: 1.7542e-05 - mae: 0.0018 - val_loss: 1.9154e-05 - val_mae: 0.0018\n",
            "Epoch 46/1000\n",
            "142/142 [==============================] - 59s 416ms/step - loss: 1.7401e-05 - mae: 0.0018 - val_loss: 1.8623e-05 - val_mae: 0.0018\n",
            "Epoch 47/1000\n",
            "142/142 [==============================] - 57s 400ms/step - loss: 1.7156e-05 - mae: 0.0018 - val_loss: 1.8880e-05 - val_mae: 0.0018\n",
            "Epoch 48/1000\n",
            "142/142 [==============================] - 57s 403ms/step - loss: 1.7259e-05 - mae: 0.0018 - val_loss: 1.8378e-05 - val_mae: 0.0018\n",
            "Epoch 49/1000\n",
            "142/142 [==============================] - 58s 409ms/step - loss: 1.7019e-05 - mae: 0.0018 - val_loss: 1.8595e-05 - val_mae: 0.0018\n",
            "Epoch 50/1000\n",
            "142/142 [==============================] - 56s 395ms/step - loss: 1.6848e-05 - mae: 0.0018 - val_loss: 1.8134e-05 - val_mae: 0.0018\n",
            "Epoch 51/1000\n",
            "142/142 [==============================] - 56s 398ms/step - loss: 1.6733e-05 - mae: 0.0017 - val_loss: 1.7962e-05 - val_mae: 0.0018\n",
            "Epoch 52/1000\n",
            "142/142 [==============================] - 58s 408ms/step - loss: 1.6522e-05 - mae: 0.0017 - val_loss: 1.8211e-05 - val_mae: 0.0018\n",
            "Epoch 53/1000\n",
            "142/142 [==============================] - 57s 400ms/step - loss: 1.6414e-05 - mae: 0.0017 - val_loss: 1.7969e-05 - val_mae: 0.0018\n",
            "Epoch 54/1000\n",
            "142/142 [==============================] - 56s 396ms/step - loss: 1.6247e-05 - mae: 0.0017 - val_loss: 1.8601e-05 - val_mae: 0.0018\n",
            "Epoch 55/1000\n",
            "142/142 [==============================] - 58s 411ms/step - loss: 1.6127e-05 - mae: 0.0017 - val_loss: 1.7720e-05 - val_mae: 0.0018\n",
            "Epoch 56/1000\n",
            "142/142 [==============================] - 56s 397ms/step - loss: 1.5884e-05 - mae: 0.0017 - val_loss: 1.9387e-05 - val_mae: 0.0018\n",
            "Epoch 57/1000\n",
            "142/142 [==============================] - 56s 397ms/step - loss: 1.5718e-05 - mae: 0.0017 - val_loss: 1.7331e-05 - val_mae: 0.0018\n",
            "Epoch 58/1000\n",
            "142/142 [==============================] - 59s 418ms/step - loss: 1.5695e-05 - mae: 0.0017 - val_loss: 1.7320e-05 - val_mae: 0.0018\n",
            "Epoch 59/1000\n",
            "142/142 [==============================] - 57s 399ms/step - loss: 1.5423e-05 - mae: 0.0017 - val_loss: 1.7192e-05 - val_mae: 0.0018\n",
            "Epoch 60/1000\n",
            "142/142 [==============================] - 57s 400ms/step - loss: 1.5435e-05 - mae: 0.0017 - val_loss: 1.7541e-05 - val_mae: 0.0018\n",
            "Epoch 61/1000\n",
            "142/142 [==============================] - 58s 407ms/step - loss: 1.5369e-05 - mae: 0.0017 - val_loss: 1.7557e-05 - val_mae: 0.0017\n",
            "Epoch 62/1000\n",
            "142/142 [==============================] - 56s 392ms/step - loss: 1.5243e-05 - mae: 0.0017 - val_loss: 1.7537e-05 - val_mae: 0.0018\n",
            "Epoch 63/1000\n",
            "142/142 [==============================] - 57s 404ms/step - loss: 1.5203e-05 - mae: 0.0017 - val_loss: 1.7114e-05 - val_mae: 0.0017\n",
            "Epoch 64/1000\n",
            "142/142 [==============================] - 59s 414ms/step - loss: 1.5126e-05 - mae: 0.0017 - val_loss: 1.7306e-05 - val_mae: 0.0018\n",
            "Epoch 65/1000\n",
            "142/142 [==============================] - 57s 402ms/step - loss: 1.4980e-05 - mae: 0.0017 - val_loss: 1.6934e-05 - val_mae: 0.0017\n",
            "Epoch 66/1000\n",
            "142/142 [==============================] - 58s 409ms/step - loss: 1.4926e-05 - mae: 0.0017 - val_loss: 1.6859e-05 - val_mae: 0.0017\n",
            "Epoch 67/1000\n",
            "142/142 [==============================] - 59s 415ms/step - loss: 1.4697e-05 - mae: 0.0016 - val_loss: 1.6760e-05 - val_mae: 0.0017\n",
            "Epoch 68/1000\n",
            "142/142 [==============================] - 56s 397ms/step - loss: 1.4643e-05 - mae: 0.0016 - val_loss: 1.6766e-05 - val_mae: 0.0017\n",
            "Epoch 69/1000\n",
            "142/142 [==============================] - 57s 400ms/step - loss: 1.4458e-05 - mae: 0.0016 - val_loss: 1.6688e-05 - val_mae: 0.0017\n",
            "Epoch 70/1000\n",
            "142/142 [==============================] - 59s 412ms/step - loss: 1.4497e-05 - mae: 0.0016 - val_loss: 1.6775e-05 - val_mae: 0.0017\n",
            "Epoch 71/1000\n",
            "142/142 [==============================] - 56s 396ms/step - loss: 1.4491e-05 - mae: 0.0016 - val_loss: 1.6727e-05 - val_mae: 0.0017\n",
            "Epoch 72/1000\n",
            "142/142 [==============================] - 57s 403ms/step - loss: 1.4472e-05 - mae: 0.0016 - val_loss: 1.6788e-05 - val_mae: 0.0017\n",
            "Epoch 73/1000\n",
            "142/142 [==============================] - 59s 411ms/step - loss: 1.4408e-05 - mae: 0.0016 - val_loss: 1.6778e-05 - val_mae: 0.0017\n",
            "Epoch 74/1000\n",
            "142/142 [==============================] - 55s 391ms/step - loss: 1.4120e-05 - mae: 0.0016 - val_loss: 1.6658e-05 - val_mae: 0.0017\n",
            "Epoch 75/1000\n",
            "142/142 [==============================] - 57s 402ms/step - loss: 1.4105e-05 - mae: 0.0016 - val_loss: 1.6472e-05 - val_mae: 0.0017\n",
            "Epoch 76/1000\n",
            "142/142 [==============================] - 58s 403ms/step - loss: 1.3917e-05 - mae: 0.0016 - val_loss: 1.6426e-05 - val_mae: 0.0017\n",
            "Epoch 77/1000\n",
            "142/142 [==============================] - 57s 403ms/step - loss: 1.3842e-05 - mae: 0.0016 - val_loss: 1.7131e-05 - val_mae: 0.0017\n",
            "Epoch 78/1000\n",
            "142/142 [==============================] - 59s 419ms/step - loss: 1.3871e-05 - mae: 0.0016 - val_loss: 1.6720e-05 - val_mae: 0.0017\n",
            "Epoch 79/1000\n",
            "142/142 [==============================] - 58s 406ms/step - loss: 1.3757e-05 - mae: 0.0016 - val_loss: 1.6633e-05 - val_mae: 0.0017\n",
            "Epoch 80/1000\n",
            "142/142 [==============================] - 58s 407ms/step - loss: 1.3708e-05 - mae: 0.0016 - val_loss: 1.6612e-05 - val_mae: 0.0017\n",
            "Epoch 81/1000\n",
            "142/142 [==============================] - 58s 411ms/step - loss: 1.3609e-05 - mae: 0.0016 - val_loss: 1.6822e-05 - val_mae: 0.0017\n",
            "10/10 [==============================] - 2s 162ms/step - loss: 1.6822e-05 - mae: 0.0017\n"
          ]
        },
        {
          "output_type": "execute_result",
          "data": {
            "text/plain": [
              "Text(0.5, 1.0, 'learning curve of DOT_convnet model')"
            ]
          },
          "metadata": {},
          "execution_count": 34
        },
        {
          "output_type": "display_data",
          "data": {
            "text/plain": [
              "<Figure size 432x288 with 1 Axes>"
            ],
            "image/png": "[encoded data removed]"
          },
          "metadata": {
            "needs_background": "light"
          }
        }
      ]
    },
    {
      "cell_type": "markdown",
      "source": [
        "**Predict by DOT_convnet model**"
      ],
      "metadata": {
        "id": "vMVUUZ4PRTxe"
      }
    },
    {
      "cell_type": "code",
      "source": [
        "mua_DOT_convnet_hat=model_2.predict(norm_data_test_conv) # mua_DOT_convnet_hat is predicted mua by DOT_convnet_model\n",
        "index=16\n",
        "\n",
        "#display predicted by DOT_convnet model\n",
        "plt.imshow(mua_DOT_convnet_hat[index].reshape(64,64))\n",
        "plt.title('Prediction')\n",
        "plt.colorbar()\n",
        "\n",
        "#displays ground truth\n",
        "#plt.imshow(mua_test[index].reshape(64,64))\n",
        "#plt.title('Ground truth - \\u03BCa=0.08 mm{}'.format(get_super('-1')))\n",
        "#plt.colorbar()"
      ],
      "metadata": {
        "id": "FKcYf8LkXtp3",
        "colab": {
          "base_uri": "https://localhost:8080/",
          "height": 318
        },
        "outputId": "546e5e0b-4c94-4984-e624-2f373ff3cf34"
      },
      "execution_count": 36,
      "outputs": [
        {
          "output_type": "stream",
          "name": "stdout",
          "text": [
            "67/67 [==============================] - 2s 32ms/step\n"
          ]
        },
        {
          "output_type": "execute_result",
          "data": {
            "text/plain": [
              "<matplotlib.colorbar.Colorbar at 0x7f087142c2e0>"
            ]
          },
          "metadata": {},
          "execution_count": 36
        },
        {
          "output_type": "display_data",
          "data": {
            "text/plain": [
              "<Figure size 432x288 with 2 Axes>"
            ],
            "image/png": "[encoded data removed]"
          },
          "metadata": {
            "needs_background": "light"
          }
        }
      ]
    },
    {
      "cell_type": "markdown",
      "source": [
        "**Evaluate DOT_convnet model**"
      ],
      "metadata": {
        "id": "QnHiJm2HYzqq"
      }
    },
    {
      "cell_type": "code",
      "source": [
        "index=100\n",
        "y_test=mua_test[index].reshape(64,64) # y_test is mua_test\n",
        "y_dot_convnet_pred=mua_DOT_convnet_hat[index].reshape(64,64) # y_dot_convnet_pred is predicted mua by dot_convnet model\n",
        "mae_dot_convnet=MAE(y_test, y_dot_convnet_pred)\n",
        "mse_dot_convnet=MSE(y_test, y_dot_convnet_pred)\n",
        "psnr_dot_convnet=PSNR(y_test, y_dot_convnet_pred)\n",
        "print('Mean Absolute Error:', mae_dot_convnet)\n",
        "print('Mean Squared Error:', mse_dot_convnet)\n",
        "print('Peak Signal to Noise Ratio:', psnr_dot_convnet)"
      ],
      "metadata": {
        "id": "pOVro80XS5_u",
        "colab": {
          "base_uri": "https://localhost:8080/"
        },
        "outputId": "49afde87-f1c4-4e69-a476-b25a4de68122"
      },
      "execution_count": 37,
      "outputs": [
        {
          "output_type": "stream",
          "name": "stdout",
          "text": [
            "Mean Absolute Error: 0.0006274823099374771\n",
            "Mean Squared Error: 8.962550168689631e-07\n",
            "Peak Signal to Noise Ratio: 23.99750899011368\n"
          ]
        }
      ]
    },
    {
      "cell_type": "markdown",
      "source": [
        "**Saving DOT_convnet as DOT_convnet_model.h5**"
      ],
      "metadata": {
        "id": "bk4vUuV5Zmiz"
      }
    },
    {
      "cell_type": "code",
      "source": [
        "#save model_2 (model_2 is DOT_convnet)\n",
        "model_2.save('/content/drive/MyDrive/DOT_convnet_model.h5')"
      ],
      "metadata": {
        "id": "iDyOaIIGjYJ_"
      },
      "execution_count": 38,
      "outputs": []
    },
    {
      "cell_type": "markdown",
      "metadata": {
        "id": "eDj0mXpeEkxL"
      },
      "source": [
        "#Single_layer (Fully connected layer)"
      ]
    },
    {
      "cell_type": "markdown",
      "source": [
        "**Fitting Single_layer model**"
      ],
      "metadata": {
        "id": "LPiORbg0kr7u"
      }
    },
    {
      "cell_type": "code",
      "execution_count": null,
      "metadata": {
        "id": "nBwmR4eoEj5I"
      },
      "outputs": [],
      "source": [
        "model_3=Single_layer()\n",
        "history=model_3.fit(norm_data_train, mua_train, epochs=1000, batch_size=128, validation_data=(norm_data_val, mua_val), callbacks=[EL])#,LS])\n",
        "#round(model.optimizer.lr.numpy(), 5)\n",
        "test_loss=model_3.evaluate(norm_data_test, mua_test, steps=10)\n",
        "plt.plot(history.history['mean_absolute_error'])\n",
        "plt.plot(history.history['val_mean_absolute_error'])\n",
        "plt.show()\n",
        "#plot learning curves\n",
        "plt.plot(history.history['loss'], label='train')\n",
        "plt.plot(history.history['val_loss'], label='test')\n",
        "plt.legend()\n",
        "plt.title('learning curve of single layer model', pad=-50)"
      ]
    },
    {
      "cell_type": "markdown",
      "source": [
        "**Predict by Single_layer model**"
      ],
      "metadata": {
        "id": "gbWlQJUqlIRy"
      }
    },
    {
      "cell_type": "code",
      "execution_count": null,
      "metadata": {
        "id": "2qul58a4I8LB"
      },
      "outputs": [],
      "source": [
        "mua_single_layer_hat=model.predict(norm_data_test) # mua_single_layer_hat is predicted mua by single_layer model\n",
        "index=0\n",
        "\n",
        "#display predicted by single layer model\n",
        "plt.imshow(mua_single_layer_hat[index].reshape(64,64))\n",
        "plt.title('Prediction by single layer model')\n",
        "plt.colorbar()\n",
        "\n",
        "#displays ground truth\n",
        "plt.imshow(mua_test[index].reshape(64,64))\n",
        "plt.title('Ground truth compared to single_layer model - \\u03BCa=0.08 mm{}'.format(get_super(\"-1\")))\n",
        "plt.colorbar()"
      ]
    },
    {
      "cell_type": "markdown",
      "source": [
        "**Evaluate Single_layer model**"
      ],
      "metadata": {
        "id": "cSkQuLHcsznX"
      }
    },
    {
      "cell_type": "code",
      "execution_count": null,
      "metadata": {
        "id": "BNXyhsVtbcRQ"
      },
      "outputs": [],
      "source": [
        "index=255\n",
        "y_test=mua_test[index].reshape(64,64) #y_test is mua_test\n",
        "y_single_layer_pred=mua_single_layer_hat[index].reshape(64,64) # y_single_layer_pred is predicted mua by single_layer\n",
        "mae_single_layer=MAE(y_test, y_single_layer_pred)\n",
        "mse_single_layer=MSE(y_test, y_single_layer_pred)\n",
        "psnr_single_layer=PSNR(y_test, y_single_layer_pred)\n",
        "print('Mean Absolute Error:', mae_single_layer)\n",
        "print('Mean Squared Error:', mse_single_layer)\n",
        "print('Peak Signal to Noise Ratio:', psnr_single_layer)"
      ]
    },
    {
      "cell_type": "markdown",
      "source": [
        "**Saving Single_layer model as Single_layer_model.h5**"
      ],
      "metadata": {
        "id": "z4mU38GsukCS"
      }
    },
    {
      "cell_type": "code",
      "execution_count": null,
      "metadata": {
        "id": "pBXeRj4jRniY"
      },
      "outputs": [],
      "source": [
        "model_3.save('/content/drive/MyDrive/Single_layer_model.h5')"
      ]
    },
    {
      "cell_type": "markdown",
      "source": [
        "#Dense_conv model"
      ],
      "metadata": {
        "id": "h6iugtosvr96"
      }
    },
    {
      "cell_type": "markdown",
      "source": [
        "**Fitting Dense_conv model**"
      ],
      "metadata": {
        "id": "MMD6jvgBw6U5"
      }
    },
    {
      "cell_type": "code",
      "execution_count": null,
      "metadata": {
        "id": "3YiY5-5SobSf"
      },
      "outputs": [],
      "source": [
        "model_4=dense_conv()\n",
        "history=model_4.fit(norm_data_train, mua_train, epochs=500, batch_size=128, validation_data=(norm_data_val, mua_val), callbacks=[EL])#,LS])\n",
        "#round(model.optimizer.lr.numpy(), 5)\n",
        "test_loss=model_4.evaluate(norm_data_test, mua_test, steps=10)\n",
        "\n",
        "#plot learning curves\n",
        "plt.plot(history.history['loss'], label='train')\n",
        "plt.plot(history.history['val_loss'], label='test')\n",
        "plt.legend()\n",
        "plt.title('learning curve of Dense_conv', pad=-50)"
      ]
    },
    {
      "cell_type": "markdown",
      "source": [
        "**Predict by Dense_conv model**"
      ],
      "metadata": {
        "id": "HFgY3FnY18dw"
      }
    },
    {
      "cell_type": "code",
      "execution_count": null,
      "metadata": {
        "id": "BcrSi7YdfsoZ"
      },
      "outputs": [],
      "source": [
        "mua_Dense_conv_hat=model_4.predict(norm_data_test) # mua_Dense_conv_hat is predicted mua by Dense_conv model\n",
        "index=9\n",
        "\n",
        "#display predicted by dense model\n",
        "plt.imshow(mua_Dense_conv_hat[index].reshape(64,64))\n",
        "plt.title('Prediction by Dense_conv model')\n",
        "plt.colorbar()\n",
        "\n",
        "#displays ground truth\n",
        "plt.imshow(mua_test[index].reshape(64,64))\n",
        "plt.title('Ground truth compared to Dense_conv model - \\u03BCa=0.08 mm{}'.format(get_super(\"-1\")))\n",
        "plt.colorbar()"
      ]
    },
    {
      "cell_type": "markdown",
      "source": [
        "**Evaluate Dense_conv model**"
      ],
      "metadata": {
        "id": "AkXwtONJ5PJX"
      }
    },
    {
      "cell_type": "code",
      "execution_count": null,
      "metadata": {
        "id": "l4Cr5CTzfyok"
      },
      "outputs": [],
      "source": [
        "index=255\n",
        "y_test=mua_test[index].reshape(64,64) #y_test is mua_test\n",
        "y_Dense_conv_pred=mua_Dense_conv_hat[index].reshape(64,64) # y_Dense_conv_pred is  predicted mua by Dense_conv model\n",
        "mae_Dense_conv=MAE(y_test, y_Dense_conv_pred)\n",
        "mse_Dense_conv=MSE(y_test, y_Dense_conv_pred)\n",
        "psnr_Dense_conv=PSNR(y_test, y_Dense_conv_pred)\n",
        "print('Mean Absolute Error:', mae_Dense_conv)\n",
        "print('Mean Squared Error:', mse_Dense_conv)\n",
        "print('Peak Signal to Noise Ratio:', psnr_Dense_conv)"
      ]
    },
    {
      "cell_type": "markdown",
      "source": [
        "**Saving Dense_conv model as Dense_conv_model.h5**"
      ],
      "metadata": {
        "id": "w1LDFX6L704P"
      }
    },
    {
      "cell_type": "code",
      "source": [
        "model_4.save('/content/drive/MyDrive/Dense_conv_model.h5')"
      ],
      "metadata": {
        "id": "JnNagGbD8wu7"
      },
      "execution_count": null,
      "outputs": []
    },
    {
      "cell_type": "markdown",
      "metadata": {
        "id": "UGmSkDCPkVII"
      },
      "source": [
        "#cnn2 model (Convolutional neural network)"
      ]
    },
    {
      "cell_type": "markdown",
      "source": [
        " **Fitting cnn2 model**"
      ],
      "metadata": {
        "id": "Y7ka0bP8_GN4"
      }
    },
    {
      "cell_type": "code",
      "execution_count": null,
      "metadata": {
        "id": "e0-dzsMREaIx"
      },
      "outputs": [],
      "source": [
        "model_5=cnn_2()\n",
        "history=model_5.fit(norm_data_train_conv, mua_train, epochs=1000, batch_size=128, validation_data=(norm_data_test_conv, mua_test),shuffle=True, callbacks=[EL])\n",
        "test_loss=model_5.evaluate(norm_data_test_conv, mua_test, steps=10)\n",
        "plt.plot(history.history['mean_absolute_error'])\n",
        "plt.plot(history.history['val_mean_absolute_error'])\n",
        "plt.show()\n",
        "#plot learning curves\n",
        "plt.plot(history.history['loss'], label='train')\n",
        "plt.plot(history.history['val_loss'], label='test')\n",
        "plt.legend()\n",
        "plt.title('learning curve of cnn2 model', pad=-50)"
      ]
    },
    {
      "cell_type": "markdown",
      "source": [
        "**Predict by cnn2 model**"
      ],
      "metadata": {
        "id": "LEuiTuHtBQ6l"
      }
    },
    {
      "cell_type": "code",
      "source": [
        "mua_cnn2_hat=model_4.predict(norm_data_test_conv) # mua_cnn2_hat is predicted mua by cnn2 model\n",
        "index=9\n",
        "\n",
        "#display predicted by cnn2 model\n",
        "plt.imshow(mua_cnn2_hat[index].reshape(64,64))\n",
        "plt.title('Prediction by cnn2 model')\n",
        "plt.colorbar()\n",
        "\n",
        "#displays ground truth\n",
        "plt.imshow(mua_test[index].reshape(64,64))\n",
        "plt.title('Ground truth compared to cnn2 model - \\u03BCa=0.08 mm{}'.format(geT_super(\"-1\")))\n",
        "plt.colorbar()"
      ],
      "metadata": {
        "id": "CSaslQzLBaVW"
      },
      "execution_count": null,
      "outputs": []
    },
    {
      "cell_type": "markdown",
      "source": [
        "**Evaluate cnn2 model**"
      ],
      "metadata": {
        "id": "s2fKdqQtB-x2"
      }
    },
    {
      "cell_type": "code",
      "source": [
        "index=255\n",
        "y_test=mua_test[index].reshape(64,64) #y_test is mua_test\n",
        "y_cnn2_pred=mua_cnn2_hat[index].reshape(64,64) # y_cnn2_pred is  predicted mua by cnn2 model\n",
        "mae_cnn2=MAE(y_test, y_cnn2_pred)\n",
        "mse_cnn2=MSE(y_test, y_cnn2_pred)\n",
        "psnr_cnn2=PSNR(y_test, y_cnn2_pred)\n",
        "print('Mean Absolute Error:', mae_cnn2)\n",
        "print('Mean Squared Error:', mse_cnn2)\n",
        "print('Peak Signal to Noise Ratio:', psnr_cnn2)"
      ],
      "metadata": {
        "id": "z1eFu3tiCI1z"
      },
      "execution_count": null,
      "outputs": []
    },
    {
      "cell_type": "markdown",
      "source": [
        "**Saving cnn2 model as cnn2_model.h5**"
      ],
      "metadata": {
        "id": "z8Fyalh0Ck_K"
      }
    },
    {
      "cell_type": "code",
      "source": [
        "model_5.save('/content/drive/MyDrive/cnn2_model.h5')"
      ],
      "metadata": {
        "id": "f3MjU9JgCtxq"
      },
      "execution_count": null,
      "outputs": []
    },
    {
      "cell_type": "markdown",
      "source": [
        "# Loading models"
      ],
      "metadata": {
        "id": "PMu14wQVF5s3"
      }
    },
    {
      "cell_type": "markdown",
      "source": [
        "**Importing needed package**"
      ],
      "metadata": {
        "id": "D23bnBK8GCmd"
      }
    },
    {
      "cell_type": "code",
      "source": [
        "from keras.models import load_model"
      ],
      "metadata": {
        "id": "sD0HEysoF-Ir"
      },
      "execution_count": null,
      "outputs": []
    },
    {
      "cell_type": "markdown",
      "source": [
        "**Loading MLP model**"
      ],
      "metadata": {
        "id": "Z780mf6dG-W9"
      }
    },
    {
      "cell_type": "code",
      "source": [
        "# load MLp_model\n",
        "model_1 = load_model('/content/drive/MyDrive/mlp_model.h5')\n",
        "#summarize model.\n",
        "model_1.summary()"
      ],
      "metadata": {
        "id": "Jw7ZZ2bVGtwM"
      },
      "execution_count": null,
      "outputs": []
    },
    {
      "cell_type": "markdown",
      "source": [
        "**Loading DOT_conv model**"
      ],
      "metadata": {
        "id": "9X8W9zG5HCj1"
      }
    },
    {
      "cell_type": "code",
      "source": [
        "# load DOT_conv model\n",
        "model_2 = load_model('/content/drive/MyDrive/DOT_convnet_model.h5')\n",
        "#summarize model.\n",
        "model_2.summary()"
      ],
      "metadata": {
        "id": "sKVCKa_JHM4f"
      },
      "execution_count": null,
      "outputs": []
    },
    {
      "cell_type": "markdown",
      "source": [
        "**Loading Single layer model**"
      ],
      "metadata": {
        "id": "1d6tcaVyIHAc"
      }
    },
    {
      "cell_type": "code",
      "source": [
        "# load Single_layer model\n",
        "model_3 = load_model('/content/drive/MyDrive/Single_layer_model.h5')\n",
        "#summarize model.\n",
        "model_3.summary()"
      ],
      "metadata": {
        "id": "cTwJ-qKnIWmA"
      },
      "execution_count": null,
      "outputs": []
    },
    {
      "cell_type": "markdown",
      "source": [
        "**Loading Dense_conv model**"
      ],
      "metadata": {
        "id": "uVSVc1tWIplQ"
      }
    },
    {
      "cell_type": "code",
      "source": [
        "model_4 = load_model('/content/drive/MyDrive/Dense_conv_model.h5')\n",
        "#summarize model.\n",
        "model_4.summary()"
      ],
      "metadata": {
        "id": "hc-zz5v_IwlQ"
      },
      "execution_count": null,
      "outputs": []
    },
    {
      "cell_type": "markdown",
      "source": [
        "**Loading cnn2  model**"
      ],
      "metadata": {
        "id": "3iJLRQZ6I8ll"
      }
    },
    {
      "cell_type": "code",
      "source": [
        "model_5 = load_model('/content/drive/MyDrive/cnn2_model.h5')\n",
        "#summarize model.\n",
        "model_5.summary()"
      ],
      "metadata": {
        "id": "pmBjjF0cJB6I"
      },
      "execution_count": null,
      "outputs": []
    }
  ],
  "metadata": {
    "colab": {
      "collapsed_sections": [
        "zqEGuxkUdXbB",
        "RZ0Rpt7IyV1n",
        "RWVL9PogoBvo",
        "56CeHf1h_kn4",
        "tpdVzexWy09c",
        "tOdKc2mEzgHx",
        "eDj0mXpeEkxL",
        "h6iugtosvr96",
        "UGmSkDCPkVII",
        "PMu14wQVF5s3"
      ],
      "provenance": [],
      "mount_file_id": "https://github.com/anismaysami/Reconstruction-of-DOT-image-using-Deep-Learning/blob/main/Training.ipynb",
      "authorship_tag": "ABX9TyPhR8yrgY8LaU6TSxv2IGsp",
      "include_colab_link": true
    },
    "kernelspec": {
      "display_name": "Python 3",
      "name": "python3"
    },
    "language_info": {
      "name": "python"
    }
  },
  "nbformat": 4,
  "nbformat_minor": 0
}