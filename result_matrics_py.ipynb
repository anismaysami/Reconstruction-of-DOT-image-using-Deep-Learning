{
  "nbformat": 4,
  "nbformat_minor": 0,
  "metadata": {
    "colab": {
      "provenance": [],
      "authorship_tag": "ABX9TyPqMZgCCPjhCOa3PgezTCdc",
      "include_colab_link": true
    },
    "kernelspec": {
      "name": "python3",
      "display_name": "Python 3"
    },
    "language_info": {
      "name": "python"
    }
  },
  "cells": [
    {
      "cell_type": "markdown",
      "metadata": {
        "id": "view-in-github",
        "colab_type": "text"
      },
      "source": [
        "<a href=\"https://colab.research.google.com/github/anismaysami/Reconstruction-of-DOT-image-using-Deep-Learning/blob/main/result_matrics_py.ipynb\" target=\"_parent\"><img src=\"https://colab.research.google.com/assets/colab-badge.svg\" alt=\"Open In Colab\"/></a>"
      ]
    },
    {
      "cell_type": "code",
      "execution_count": null,
      "metadata": {
        "id": "7ZvHp8CmH8bA"
      },
      "outputs": [],
      "source": [
        "#This script shows the result of reconstruction\n",
        "#written by Anis maysami\n",
        "from metrics import MAE, MSE, PSNR, SSIM\n",
        "def evaluation(model, index, data, realmua):\n",
        "  y_pred=model.predict(data)\n",
        "  y_pred_index=y_pred[index].reshape(64,64)\n",
        "  y_test=realmua[index].reshape(64,64)\n",
        "\n",
        "  mae_mlp=MAE(y_test, y_pred_index)\n",
        "  mse_mlp=MSE(y_test, y_pred_index)\n",
        "  psnr_mlp=PSNR(y_test, y_mlp_pred)\n",
        "  print('Mean Absolute Error:', mae_mlp)\n",
        "  print('Mean Squared Error:', mse_mlp)\n",
        "  print('Peak Signal to Noise Ratio:', psnr_mlp)"
      ]
    }
  ]
}